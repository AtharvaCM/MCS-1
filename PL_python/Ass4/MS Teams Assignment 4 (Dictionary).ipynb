{
 "cells": [
  {
   "cell_type": "markdown",
   "metadata": {},
   "source": [
    "# Name: Atharva Mahamuni.\n",
    "# Class: M.Sc.CS-1\n",
    "# Enroll No.: 2002276\n",
    "# Assignment 4 Dictionary\n",
    "# ---------------------------------------------------------------------------------------------"
   ]
  },
  {
   "cell_type": "markdown",
   "metadata": {},
   "source": [
    "### 1. Python Program to Add a Key-Value Pair to the Dictionary"
   ]
  },
  {
   "cell_type": "code",
   "execution_count": 5,
   "metadata": {},
   "outputs": [
    {
     "name": "stdout",
     "output_type": "stream",
     "text": [
      "Enter key : 1\n",
      "Enter value : abcd\n",
      "{1: 'abcd'}\n"
     ]
    }
   ],
   "source": [
    "key = int(input(\"Enter key : \"))\n",
    "value = input(\"Enter value : \")\n",
    "dict1 = {}\n",
    "dict1.update( {key:value} )\n",
    "print(dict1)"
   ]
  },
  {
   "cell_type": "markdown",
   "metadata": {},
   "source": [
    "### 2. Python Program to Concatenate Two Dictionaries Into One"
   ]
  },
  {
   "cell_type": "code",
   "execution_count": 5,
   "metadata": {},
   "outputs": [
    {
     "name": "stdout",
     "output_type": "stream",
     "text": [
      "Dictionary 1 is :  {'key1': 'Have', 'key2': 'a'}\n",
      "Dictionary 2 is :  {'key3': 'nice', 'key4': 'day'}\n",
      "Concatenated dictionary is :  {'key1': 'Have', 'key2': 'a', 'key3': 'nice', 'key4': 'day'}\n"
     ]
    }
   ],
   "source": [
    "dict1 = {'key1':'Have', 'key2':'a'} \n",
    "dict2 = {'key3':'nice','key4':'day'}\n",
    "print(\"Dictionary 1 is : \", dict1)\n",
    "print(\"Dictionary 2 is : \", dict2)\n",
    "\n",
    "# adding dict2 (key3, key4) to dict1 \n",
    "dict1.update(dict2) \n",
    "\n",
    "print(\"Concatenated dictionary is : \",dict) "
   ]
  },
  {
   "cell_type": "markdown",
   "metadata": {},
   "source": [
    "### 3. Python Program to Check if a Given Key Exists in a Dictionary or Not"
   ]
  },
  {
   "cell_type": "code",
   "execution_count": 12,
   "metadata": {},
   "outputs": [
    {
     "name": "stdout",
     "output_type": "stream",
     "text": [
      "Key  k2  exists in the dictionary  {'k1': 'aaa', 'k2': 'bbb', 'k3': 'ccc', 'k4': 'ddd'}\n",
      "Key  k9  does not exist in the dictionary  {'k1': 'aaa', 'k2': 'bbb', 'k3': 'ccc', 'k4': 'ddd'}\n"
     ]
    }
   ],
   "source": [
    "d = {'k1':'aaa', 'k2':'bbb', 'k3':'ccc', 'k4':'ddd'}\n",
    "\n",
    "def if_key_exists(k):\n",
    "    if k in d:\n",
    "        print(\"Key \", k,\" exists in the dictionary \", d)\n",
    "    else:\n",
    "        print(\"Key \", k,\" does not exist in the dictionary \", d)\n",
    "        \n",
    "if_key_exists('k2')\n",
    "if_key_exists('k9')"
   ]
  },
  {
   "cell_type": "markdown",
   "metadata": {},
   "source": [
    "### 4. Python Program to Generate a Dictionary that Contains Numbers (between 1 and n) in the Form (x,x*x)."
   ]
  },
  {
   "cell_type": "code",
   "execution_count": 11,
   "metadata": {},
   "outputs": [
    {
     "name": "stdout",
     "output_type": "stream",
     "text": [
      "Input a number 5\n",
      "{1: 1, 2: 4, 3: 9, 4: 16, 5: 25}\n"
     ]
    }
   ],
   "source": [
    "n=int(input(\"Input a number \"))\n",
    "d = dict()\n",
    "\n",
    "for x in range(1,n+1):\n",
    "    d[x]=x*x\n",
    "\n",
    "print(d) "
   ]
  },
  {
   "cell_type": "markdown",
   "metadata": {},
   "source": [
    "### 5. Python Program to Sum All the Items in a Dictionary"
   ]
  },
  {
   "cell_type": "code",
   "execution_count": 34,
   "metadata": {},
   "outputs": [
    {
     "name": "stdout",
     "output_type": "stream",
     "text": [
      "10\n"
     ]
    }
   ],
   "source": [
    "d = { 'k1':1, 'k2':2, 'k3':3, 'k4':4 }\n",
    "sum = 0\n",
    "for i in d.values():\n",
    "    #print(i)\n",
    "    sum += i\n",
    "print(sum)"
   ]
  },
  {
   "cell_type": "markdown",
   "metadata": {},
   "source": [
    "### 6. Python Program to Multiply All the Items in a Dictionary"
   ]
  },
  {
   "cell_type": "code",
   "execution_count": 33,
   "metadata": {},
   "outputs": [
    {
     "name": "stdout",
     "output_type": "stream",
     "text": [
      "24\n"
     ]
    }
   ],
   "source": [
    "d = { 'k1':1, 'k2':2, 'k3':3, 'k4':4 }\n",
    "mult = 1\n",
    "for i in d.values():\n",
    "    mult *= i\n",
    "    \n",
    "print(mult)"
   ]
  },
  {
   "cell_type": "markdown",
   "metadata": {},
   "source": [
    "### 7. Python Program to Remove the Given Key from a Dictionary"
   ]
  },
  {
   "cell_type": "code",
   "execution_count": 37,
   "metadata": {},
   "outputs": [
    {
     "name": "stdout",
     "output_type": "stream",
     "text": [
      "Initial dictionary :  {'k1': 1, 'k2': 2, 'k3': 3, 'k4': 4}\n",
      "Enter key (k1 to k4) to delete it from dictionary : k1\n",
      "Updated dictionary :  {'k2': 2, 'k3': 3, 'k4': 4}\n"
     ]
    }
   ],
   "source": [
    "d = { 'k1':1, 'k2':2, 'k3':3, 'k4':4 }\n",
    "print(\"Initial dictionary : \", d)\n",
    "\n",
    "key = input(\"Enter key (k1 to k4) to delete it from dictionary : \")\n",
    "if i in d:\n",
    "    del d[key]\n",
    "else:\n",
    "    print(\"Key not found ! \")\n",
    "    exit(0)\n",
    "    \n",
    "print(\"Updated dictionary : \", d)"
   ]
  },
  {
   "cell_type": "markdown",
   "metadata": {},
   "source": [
    "### 8. Python Program to Form a Dictionary from an Object of a Class"
   ]
  },
  {
   "cell_type": "code",
   "execution_count": 1,
   "metadata": {},
   "outputs": [
    {
     "name": "stdout",
     "output_type": "stream",
     "text": [
      "{'K1': 1, 'K2': 2}\n"
     ]
    }
   ],
   "source": [
    "class A(object):  \n",
    "    def __init__(self):  \n",
    "        self.K1=1  \n",
    "        self.K2=2  \n",
    "obj=A()  \n",
    "print(obj.__dict__)"
   ]
  },
  {
   "cell_type": "markdown",
   "metadata": {},
   "source": [
    "### 9. Python Program to Map Two Lists into a Dictionary"
   ]
  },
  {
   "cell_type": "code",
   "execution_count": 45,
   "metadata": {},
   "outputs": [
    {
     "name": "stdout",
     "output_type": "stream",
     "text": [
      "{'k1': '1', 'k2': '2', 'k3': '3'}\n"
     ]
    }
   ],
   "source": [
    "keys = ['k1', 'k2', 'k3']\n",
    "values = ['1','2', '3']\n",
    "d = dict(zip(keys, values))\n",
    "print(d)"
   ]
  },
  {
   "cell_type": "markdown",
   "metadata": {},
   "source": [
    "### 10. Python Program to Count the Frequency of Words Appearing in a String Using a Dictionary"
   ]
  },
  {
   "cell_type": "code",
   "execution_count": 4,
   "metadata": {},
   "outputs": [
    {
     "name": "stdout",
     "output_type": "stream",
     "text": [
      "Enter string:hellow world its the end of the world\n",
      "{'hellow': 1, 'world': 2, 'its': 1, 'the': 2, 'end': 1, 'of': 1}\n"
     ]
    }
   ],
   "source": [
    "string = input(\"Enter string:\")\n",
    "list1 = [ ]\n",
    "list1 = string.split()\n",
    "wordfreq = [ list1.count(word) for word in list1]\n",
    "print(dict(zip(list1,wordfreq)))"
   ]
  },
  {
   "cell_type": "markdown",
   "metadata": {},
   "source": [
    "### 11. Python Program to Create a Dictionary with Key as First Character and Value as Words Starting with that Character"
   ]
  },
  {
   "cell_type": "code",
   "execution_count": 7,
   "metadata": {},
   "outputs": [
    {
     "name": "stdout",
     "output_type": "stream",
     "text": [
      "Enter string:hellow there howdy doodie\n",
      "h : ['hellow', 'howdy']\n",
      "t : ['there']\n",
      "d : ['doodie']\n"
     ]
    }
   ],
   "source": [
    "test_string = input(\"Enter string:\")\n",
    "l = test_string.split()\n",
    "d = { }\n",
    "for word in l:\n",
    "    if(word[0] not in d.keys()):\n",
    "        d[word[0]] = [] # made a list to store multiple words\n",
    "        d[word[0]].append(word)\n",
    "    else:\n",
    "        if(word not in d[word[0]]):\n",
    "            d[word[0]].append(word)\n",
    "for k,v in d.items():\n",
    "        print(k,\":\",v)"
   ]
  },
  {
   "cell_type": "code",
   "execution_count": null,
   "metadata": {},
   "outputs": [],
   "source": []
  }
 ],
 "metadata": {
  "kernelspec": {
   "display_name": "Python 3",
   "language": "python",
   "name": "python3"
  },
  "language_info": {
   "codemirror_mode": {
    "name": "ipython",
    "version": 3
   },
   "file_extension": ".py",
   "mimetype": "text/x-python",
   "name": "python",
   "nbconvert_exporter": "python",
   "pygments_lexer": "ipython3",
   "version": "3.8.6"
  }
 },
 "nbformat": 4,
 "nbformat_minor": 4
}
