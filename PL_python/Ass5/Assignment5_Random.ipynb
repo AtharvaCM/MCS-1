{
 "cells": [
  {
   "cell_type": "markdown",
   "metadata": {},
   "source": [
    "### Name :- Atharva Mahamuni\n",
    "### Class :- MSc computer science I\n",
    "### Enroll No :- 2002276\n",
    "\n",
    "# Assignment 5 Random (Python)"
   ]
  },
  {
   "cell_type": "markdown",
   "metadata": {},
   "source": [
    "### 1. Python Program to Count the Number of Vowels Present in a String using Sets"
   ]
  },
  {
   "cell_type": "code",
   "execution_count": 2,
   "metadata": {},
   "outputs": [
    {
     "name": "stdout",
     "output_type": "stream",
     "text": [
      "Enter a string: myname Is python\n",
      "No of vowels :  4\n"
     ]
    }
   ],
   "source": [
    "def count_vowels(str):\n",
    "    count=0\n",
    "    vowel = set(\"aeiouAEIOU\")\n",
    "    for alphabet in str:\n",
    "        if alphabet in vowel:\n",
    "            count += 1\n",
    "    print(\"No of vowels : \",count)\n",
    "# str = \"MyNameIsPython\"\n",
    "str = input('Enter a string: ')\n",
    "count_vowels(str)"
   ]
  },
  {
   "cell_type": "markdown",
   "metadata": {},
   "source": [
    "### 2. Python Program to Check Common Letters in Two Input Strings"
   ]
  },
  {
   "cell_type": "code",
   "execution_count": 7,
   "metadata": {},
   "outputs": [
    {
     "name": "stdout",
     "output_type": "stream",
     "text": [
      "Enter string 1: here\n",
      "Enter string 2: andhere\n",
      "Counter({'e': 2, 'h': 1, 'r': 1})\n",
      "heer\n"
     ]
    }
   ],
   "source": [
    "from collections import Counter\n",
    "def common(str1,str2):   \n",
    "    dict1 = Counter(str1)  \n",
    "    dict2 = Counter(str2)\n",
    "#     print(type(dict1))\n",
    "#     print(dict1)\n",
    "#     print(dict2)\n",
    "    commonDict = dict1 & dict2 # bitwise and\n",
    "    print(commonDict)\n",
    "    if len(commonDict) == 0:  \n",
    "        print (-1) \n",
    "        return\n",
    "    commonChars = list(commonDict.elements())\n",
    "    print(''.join(commonChars))\n",
    "    \n",
    "if __name__ == \"__main__\":  \n",
    "    str1 = input('Enter string 1: ')\n",
    "    str2 = input('Enter string 2: ')\n",
    "    common(str1, str2)  "
   ]
  },
  {
   "cell_type": "markdown",
   "metadata": {},
   "source": [
    "### 3. Python Program that Displays which Letters are in the First String but not in the Second"
   ]
  },
  {
   "cell_type": "code",
   "execution_count": 9,
   "metadata": {},
   "outputs": [
    {
     "name": "stdout",
     "output_type": "stream",
     "text": [
      "Enter string 1: adhd\n",
      "Enter string 2: dh\n",
      "a\n"
     ]
    }
   ],
   "source": [
    "str1 = input('Enter string 1: ')\n",
    "str2 = input('Enter string 2: ')\n",
    "result = set(str1) - set(str2)\n",
    "print(''.join(result))"
   ]
  },
  {
   "cell_type": "markdown",
   "metadata": {},
   "source": [
    "### 4. Python Program that Displays which Letters are Present in Both the Strings"
   ]
  },
  {
   "cell_type": "code",
   "execution_count": 10,
   "metadata": {},
   "outputs": [
    {
     "name": "stdout",
     "output_type": "stream",
     "text": [
      "Enter string 1: hellow\n",
      "Enter string 2: world\n",
      "e l o r d w h\n"
     ]
    }
   ],
   "source": [
    "str1 = input('Enter string 1: ')\n",
    "str2 = input('Enter string 2: ')\n",
    "result =(list(set(str1)|set(str2)))\n",
    "print(' '.join(result))"
   ]
  },
  {
   "cell_type": "markdown",
   "metadata": {},
   "source": [
    "### 5. Python Program that Displays which Letters are in the Two Strings but not in Both"
   ]
  },
  {
   "cell_type": "code",
   "execution_count": 11,
   "metadata": {},
   "outputs": [
    {
     "name": "stdout",
     "output_type": "stream",
     "text": [
      "Enter string 1: jai\n",
      "Enter string 2: hind\n",
      "j n a d h\n"
     ]
    }
   ],
   "source": [
    "str1 = input('Enter string 1: ')\n",
    "str2 = input('Enter string 2: ')\n",
    "result = set(str1)^set(str2)\n",
    "print(' '.join(result))"
   ]
  }
 ],
 "metadata": {
  "kernelspec": {
   "display_name": "Python 3",
   "language": "python",
   "name": "python3"
  },
  "language_info": {
   "codemirror_mode": {
    "name": "ipython",
    "version": 3
   },
   "file_extension": ".py",
   "mimetype": "text/x-python",
   "name": "python",
   "nbconvert_exporter": "python",
   "pygments_lexer": "ipython3",
   "version": "3.8.6"
  }
 },
 "nbformat": 4,
 "nbformat_minor": 4
}
