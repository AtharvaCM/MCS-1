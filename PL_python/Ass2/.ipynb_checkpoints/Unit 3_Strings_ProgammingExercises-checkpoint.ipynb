{
 "cells": [
  {
   "cell_type": "markdown",
   "metadata": {},
   "source": [
    "## Name: Atharva C Mahamuni"
   ]
  },
  {
   "cell_type": "code",
   "execution_count": 3,
   "metadata": {},
   "outputs": [
    {
     "name": "stdout",
     "output_type": "stream",
     "text": [
      "Enter a string to calculate length: abc\n",
      "length of String:  3\n"
     ]
    }
   ],
   "source": [
    "# 1. Write a Python program to calculate the length of a string.\n",
    "\n",
    "string = input('Enter a string to calculate length: ')\n",
    "print('length of String: ', len(string))"
   ]
  },
  {
   "cell_type": "code",
   "execution_count": 3,
   "metadata": {},
   "outputs": [
    {
     "name": "stdout",
     "output_type": "stream",
     "text": [
      "Enter a string to check if it's a palindrome or not: asddsa\n",
      "asddsa is a palindrome\n"
     ]
    }
   ],
   "source": [
    "# 2. Check if given string is palindrome.\n",
    "\n",
    "inp = input('Enter a string to check if it\\'s a palindrome or not: ')\n",
    "print(inp, 'is a palindrome') if inp == inp[::-1] else print(inp, 'is not a palindrome')\n"
   ]
  },
  {
   "cell_type": "code",
   "execution_count": null,
   "metadata": {},
   "outputs": [],
   "source": [
    "# 3. Write a Python program to get a string made of the first 2 and the last 2 chars from a\n",
    "# given a string. If the string length is less than 2, return instead of the empty string.\n",
    "# Sample String : ‘Learning Python’\n",
    "# Expected Result : ‘Leon’\n",
    "# Sample String : 'Pi'\n",
    "# Expected Result : 'PiPi'\n",
    "# Sample String : ' S'\n",
    "# Expected Result : Empty String\n",
    "\n",
    "inp = input(\"Enter a sample string: \")\n",
    "\n",
    "if len(inp) == 2:\n",
    "    print(inp*2)\n",
    "    exit()\n",
    "elif len(inp) < 2:\n",
    "    exit()\n",
    "else:\n",
    "    f2 = inp[0:2]\n",
    "    l2 = inp[:-3:-1]\n",
    "    l2 = l2[::-1]\n",
    "    print('Result string: ', f2 + l2)"
   ]
  }
 ],
 "metadata": {
  "kernelspec": {
   "display_name": "Python 3",
   "language": "python",
   "name": "python3"
  },
  "language_info": {
   "codemirror_mode": {
    "name": "ipython",
    "version": 3
   },
   "file_extension": ".py",
   "mimetype": "text/x-python",
   "name": "python",
   "nbconvert_exporter": "python",
   "pygments_lexer": "ipython3",
   "version": "3.8.6"
  }
 },
 "nbformat": 4,
 "nbformat_minor": 4
}
