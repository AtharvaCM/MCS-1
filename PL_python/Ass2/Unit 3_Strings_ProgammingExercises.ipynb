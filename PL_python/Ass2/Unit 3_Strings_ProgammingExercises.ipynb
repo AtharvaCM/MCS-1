{
 "cells": [
  {
   "cell_type": "markdown",
   "metadata": {},
   "source": [
    "## Name: Atharva C Mahamuni"
   ]
  },
  {
   "cell_type": "code",
   "execution_count": 1,
   "metadata": {},
   "outputs": [
    {
     "name": "stdout",
     "output_type": "stream",
     "text": [
      "Enter a string to calculate length: aasda\n",
      "length of String:  5\n"
     ]
    }
   ],
   "source": [
    "# 1. Write a Python program to calculate the length of a string.\n",
    "\n",
    "string = input('Enter a string to calculate length: ')\n",
    "print('length of String: ', len(string))"
   ]
  },
  {
   "cell_type": "code",
   "execution_count": 2,
   "metadata": {},
   "outputs": [
    {
     "name": "stdout",
     "output_type": "stream",
     "text": [
      "Enter a string to check if it's a palindrome or not: abba\n",
      "abba is a palindrome\n"
     ]
    }
   ],
   "source": [
    "# 2. Check if given string is palindrome.\n",
    "\n",
    "inp = input('Enter a string to check if it\\'s a palindrome or not: ')\n",
    "print(inp, 'is a palindrome') if inp == inp[::-1] else print(inp, 'is not a palindrome')\n"
   ]
  },
  {
   "cell_type": "code",
   "execution_count": 2,
   "metadata": {},
   "outputs": [
    {
     "name": "stdout",
     "output_type": "stream",
     "text": [
      "Enter a sample string: asdf\n",
      "Result string:  asdf\n"
     ]
    }
   ],
   "source": [
    "# 3. Write a Python program to get a string made of the first 2 and the last 2 chars from a\n",
    "# given a string. If the string length is less than 2, return instead of the empty string.\n",
    "# Sample String : ‘Learning Python’\n",
    "# Expected Result : ‘Leon’\n",
    "# Sample String : 'Pi'\n",
    "# Expected Result : 'PiPi'\n",
    "# Sample String : ' S'\n",
    "# Expected Result : Empty String\n",
    "import sys\n",
    "\n",
    "inp = input(\"Enter a sample string: \")\n",
    "\n",
    "if len(inp) == 2:\n",
    "    print(inp*2)\n",
    "#     sys.exit(0)\n",
    "    quit()\n",
    "elif len(inp) < 2:\n",
    "#     sys.exit(0)\n",
    "    quit()\n",
    "else:\n",
    "    f2 = inp[0:2]\n",
    "    l2 = inp[:-3:-1]\n",
    "    l2 = l2[::-1]\n",
    "    print('Result string: ', f2 + l2)"
   ]
  },
  {
   "cell_type": "code",
   "execution_count": 5,
   "metadata": {},
   "outputs": [
    {
     "name": "stdout",
     "output_type": "stream",
     "text": [
      "Enter a string: restart\n",
      "resta$t\n"
     ]
    }
   ],
   "source": [
    "# 4. Write a Python program to get a string from a given string where all occurrences of its\n",
    "# first char have been changed to '$', except the first char itself.\n",
    "# Sample String : 'restart'\n",
    "# Expected Result : 'resta$t'\n",
    "\n",
    "def change_char(str1):\n",
    "    char = str1[0]\n",
    "    str1 = str1.replace(char, '$')\n",
    "#     1st char plus rest of the str\n",
    "    str1 = char + str1[1:]\n",
    "\n",
    "    return str1\n",
    "\n",
    "print(change_char(input('Enter a string: ')))\n"
   ]
  },
  {
   "cell_type": "code",
   "execution_count": 6,
   "metadata": {},
   "outputs": [
    {
     "name": "stdout",
     "output_type": "stream",
     "text": [
      "Enter 1st string: abc\n",
      "Enter 2nd string: xyz\n",
      "xyc abz\n"
     ]
    }
   ],
   "source": [
    "# 5. Write a Python program to get a single string from two given strings, separated by a\n",
    "# space and swap the first two characters of each string. Sample String : 'abc', 'xyz'\n",
    "# Expected Result : 'xyc abz'\n",
    "\n",
    "def chars_mix_up(a, b):\n",
    "    new_a = b[:2] + a[2:]\n",
    "    new_b = a[:2] + b[2:]\n",
    "\n",
    "    return new_a + ' ' + new_b\n",
    "print(chars_mix_up(input('Enter 1st string: '), input('Enter 2nd string: ')))\n"
   ]
  },
  {
   "cell_type": "code",
   "execution_count": 7,
   "metadata": {},
   "outputs": [
    {
     "name": "stdout",
     "output_type": "stream",
     "text": [
      "Enter a string: string\n",
      "stringly\n"
     ]
    }
   ],
   "source": [
    "# 6. Write a Python program to add 'ing' at the end of a given string (length should be at least\n",
    "# 3). If the given string already ends with 'ing' then add 'ly' instead. If the string length of\n",
    "# the given string is less than 3, leave it unchanged.\n",
    "# Sample String : 'abc'\n",
    "# Expected Result : 'abcing'\n",
    "# Sample String : 'string'\n",
    "# Expected Result : 'stringly'\n",
    "\n",
    "def add_string(str1):\n",
    "    length = len(str1)\n",
    "\n",
    "    if length > 2:\n",
    "        if str1[-3:] == 'ing':\n",
    "            str1 += 'ly'\n",
    "        else:\n",
    "            str1 += 'ing'\n",
    "\n",
    "    return str1\n",
    "print(add_string(input('Enter a string: ')))\n"
   ]
  },
  {
   "cell_type": "code",
   "execution_count": 9,
   "metadata": {},
   "outputs": [
    {
     "name": "stdout",
     "output_type": "stream",
     "text": [
      "The music is good!\n"
     ]
    }
   ],
   "source": [
    "# 7. Write a Python program to find the first appearance of the substring 'not' and 'poor' from\n",
    "# a given string, if 'bad' follows the 'poor', replace the whole 'not'...'poor' substring with\n",
    "# 'good'. Return the resulting string.\n",
    "# Sample String : 'The music is not that poor!'\n",
    "# Expected Result : 'The music is good!'\n",
    "\n",
    "def not_poor(str1):  \n",
    "    snot = str1.find('not')  \n",
    "    sbad = str1.find('poor')  \n",
    "      \n",
    "    if sbad > snot:\n",
    "#    if bad follows poor\n",
    "#         from not till poor (+ 4 for word poor)\n",
    "        str1 = str1.replace(str1[snot:(sbad+4)], 'good')  \n",
    "      \n",
    "        return str1  \n",
    "print(not_poor('The music is not that poor!'))"
   ]
  },
  {
   "cell_type": "code",
   "execution_count": 10,
   "metadata": {},
   "outputs": [
    {
     "name": "stdout",
     "output_type": "stream",
     "text": [
      "PHP\n",
      "Exercises\n",
      "Backend\n",
      "Exercises\n"
     ]
    }
   ],
   "source": [
    "# 8. Write a Python function that takes a list of words and returns the length of the longest\n",
    "# one.\n",
    "\n",
    "def find_longest_word(words_list):\n",
    "    word_len = []\n",
    "    for n in words_list:\n",
    "#         store lengths of words into a list\n",
    "        word_len.append((len(n), n))\n",
    "        print(n)\n",
    "    word_len.sort()\n",
    "    return word_len[-1][1]\n",
    "\n",
    "print(find_longest_word([\"PHP\", \"Exercises\", \"Backend\"]))\n"
   ]
  }
 ],
 "metadata": {
  "kernelspec": {
   "display_name": "Python 3",
   "language": "python",
   "name": "python3"
  },
  "language_info": {
   "codemirror_mode": {
    "name": "ipython",
    "version": 3
   },
   "file_extension": ".py",
   "mimetype": "text/x-python",
   "name": "python",
   "nbconvert_exporter": "python",
   "pygments_lexer": "ipython3",
   "version": "3.8.6"
  }
 },
 "nbformat": 4,
 "nbformat_minor": 4
}
