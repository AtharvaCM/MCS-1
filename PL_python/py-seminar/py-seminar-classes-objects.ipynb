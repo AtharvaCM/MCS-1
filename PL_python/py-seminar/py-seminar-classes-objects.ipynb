{
 "cells": [
  {
   "cell_type": "markdown",
   "id": "technological-october",
   "metadata": {},
   "source": [
    "# Name: Atharva C Mahamuni.\n",
    "# Class: M.Sc.C.S.-1\n",
    "# Topic: Python Classes / Objects\n"
   ]
  },
  {
   "cell_type": "markdown",
   "id": "iraqi-eagle",
   "metadata": {},
   "source": [
    "\n",
    "\n",
    "### Python is an object oriented programming language.\n",
    "\n",
    "### Almost everything in Python is an object, with its properties and methods.\n",
    "\n",
    "### A Class is like an object constructor, or a \"blueprint\" for creating objects.\n"
   ]
  },
  {
   "cell_type": "markdown",
   "id": "collectible-january",
   "metadata": {},
   "source": [
    "## Create a Class"
   ]
  },
  {
   "cell_type": "code",
   "execution_count": 3,
   "id": "possible-strain",
   "metadata": {},
   "outputs": [],
   "source": [
    "class MyClass:\n",
    "  x = 5"
   ]
  },
  {
   "cell_type": "markdown",
   "id": "weird-corps",
   "metadata": {},
   "source": [
    "## Create Object\n",
    "#### Create an object named p1, and print the value of x:"
   ]
  },
  {
   "cell_type": "code",
   "execution_count": 5,
   "id": "racial-stereo",
   "metadata": {},
   "outputs": [
    {
     "name": "stdout",
     "output_type": "stream",
     "text": [
      "5\n"
     ]
    }
   ],
   "source": [
    "p1 = MyClass()\n",
    "print(p1.x)"
   ]
  },
  {
   "cell_type": "markdown",
   "id": "defensive-carol",
   "metadata": {},
   "source": [
    "## The __init__() Function\n",
    "To understand the meaning of classes we have to understand the built-in __init__() function."
   ]
  },
  {
   "cell_type": "markdown",
   "id": "worldwide-remainder",
   "metadata": {},
   "source": [
    " All classes have a function called __init__(), which is always executed when the class is being initiated.\n",
    " \n",
    "We cannot create the object if we don’t have a constructor in our program. This is why when we do not declare the constructor in ourprogram python having the inbuilt feature it does it for us."
   ]
  },
  {
   "cell_type": "markdown",
   "id": "postal-bennett",
   "metadata": {},
   "source": [
    "Use the __init__() function to assign values to object properties, or other operations that are necessary to do when the object is being created:"
   ]
  },
  {
   "cell_type": "code",
   "execution_count": 9,
   "id": "extraordinary-diploma",
   "metadata": {},
   "outputs": [
    {
     "name": "stdout",
     "output_type": "stream",
     "text": [
      "John\n",
      "36\n"
     ]
    }
   ],
   "source": [
    "# Create a class named Person, use the __init__() function to assign values for name and age:\n",
    "\n",
    "class Person:\n",
    "    def __init__(self, name, age):\n",
    "        self.name = name\n",
    "        self.age = age\n",
    "\n",
    "John = Person(\"John\", 36)\n",
    "\n",
    "print(John.name)\n",
    "print(John.age) "
   ]
  },
  {
   "cell_type": "markdown",
   "id": "pleased-answer",
   "metadata": {},
   "source": [
    "##### Note: The __init__() function is called automatically every time the class is being used to create a new object."
   ]
  },
  {
   "cell_type": "markdown",
   "id": "technical-still",
   "metadata": {},
   "source": [
    "## Object Methods\n",
    "Objects can also contain methods. Methods in objects are functions that belong to the object."
   ]
  },
  {
   "cell_type": "code",
   "execution_count": 12,
   "id": "durable-brunswick",
   "metadata": {},
   "outputs": [
    {
     "name": "stdout",
     "output_type": "stream",
     "text": [
      "Hello my name is John\n"
     ]
    }
   ],
   "source": [
    "# Insert a function that prints a greeting, and execute it on the p1 object:\n",
    "\n",
    "class Person:\n",
    "    def __init__(self, name, age):\n",
    "        self.name = name\n",
    "        self.age = age\n",
    "\n",
    "    def myfunc(self):\n",
    "        print(\"Hello my name is \" + self.name)\n",
    "\n",
    "John = Person(\"John\", 36)\n",
    "John.myfunc() "
   ]
  },
  {
   "cell_type": "markdown",
   "id": "apart-grove",
   "metadata": {},
   "source": [
    "#### Note: The self parameter is a reference to the current instance of the class, and is used to access variables that belong to the class."
   ]
  },
  {
   "cell_type": "markdown",
   "id": "experimental-strand",
   "metadata": {},
   "source": [
    "## The self Parameter\n",
    "The self parameter is a reference to the current instance of the class, and is used to access variables that belongs to the class.\n",
    "\n",
    "It does not have to be named self , you can call it whatever you like, but it has to be the first parameter of any function in the class:"
   ]
  },
  {
   "cell_type": "code",
   "execution_count": 14,
   "id": "clear-forge",
   "metadata": {},
   "outputs": [
    {
     "name": "stdout",
     "output_type": "stream",
     "text": [
      "Hello my name is John\n"
     ]
    }
   ],
   "source": [
    "# Use the words mysillyobject and abc instead of self:\n",
    "\n",
    "class Person:\n",
    "    def __init__(mysillyobject, name, age):\n",
    "        mysillyobject.name = name\n",
    "        mysillyobject.age = age\n",
    "\n",
    "    def myfunc(abc):\n",
    "        print(\"Hello my name is \" + abc.name)\n",
    "\n",
    "John = Person(\"John\", 36)\n",
    "John.myfunc() "
   ]
  },
  {
   "cell_type": "markdown",
   "id": "lightweight-yahoo",
   "metadata": {},
   "source": [
    "## Modify Object Properties"
   ]
  },
  {
   "cell_type": "code",
   "execution_count": 46,
   "id": "certified-harvard",
   "metadata": {},
   "outputs": [
    {
     "name": "stdout",
     "output_type": "stream",
     "text": [
      "40\n"
     ]
    }
   ],
   "source": [
    "# Set the age of p1 to 40:\n",
    "\n",
    "John.age = 40 \n",
    "\n",
    "print(John.age)"
   ]
  },
  {
   "cell_type": "markdown",
   "id": "european-penalty",
   "metadata": {},
   "source": [
    "## Delete Object Properties\n",
    "You can delete properties on objects by using the del keyword:"
   ]
  },
  {
   "cell_type": "code",
   "execution_count": 47,
   "id": "significant-confirmation",
   "metadata": {},
   "outputs": [
    {
     "name": "stdout",
     "output_type": "stream",
     "text": [
      "40\n"
     ]
    },
    {
     "ename": "AttributeError",
     "evalue": "'Person' object has no attribute 'age'",
     "output_type": "error",
     "traceback": [
      "\u001b[0;31m---------------------------------------------------------------------------\u001b[0m",
      "\u001b[0;31mAttributeError\u001b[0m                            Traceback (most recent call last)",
      "\u001b[0;32m<ipython-input-47-74be3a77475a>\u001b[0m in \u001b[0;36m<module>\u001b[0;34m\u001b[0m\n\u001b[1;32m      3\u001b[0m \u001b[0mprint\u001b[0m\u001b[0;34m(\u001b[0m\u001b[0mp1\u001b[0m\u001b[0;34m.\u001b[0m\u001b[0mage\u001b[0m\u001b[0;34m)\u001b[0m\u001b[0;34m\u001b[0m\u001b[0;34m\u001b[0m\u001b[0m\n\u001b[1;32m      4\u001b[0m \u001b[0;32mdel\u001b[0m \u001b[0mp1\u001b[0m\u001b[0;34m.\u001b[0m\u001b[0mage\u001b[0m\u001b[0;34m\u001b[0m\u001b[0;34m\u001b[0m\u001b[0m\n\u001b[0;32m----> 5\u001b[0;31m \u001b[0mprint\u001b[0m\u001b[0;34m(\u001b[0m\u001b[0mp1\u001b[0m\u001b[0;34m.\u001b[0m\u001b[0mage\u001b[0m\u001b[0;34m)\u001b[0m\u001b[0;34m\u001b[0m\u001b[0;34m\u001b[0m\u001b[0m\n\u001b[0m\u001b[1;32m      6\u001b[0m \u001b[0;34m\u001b[0m\u001b[0m\n\u001b[1;32m      7\u001b[0m \u001b[0;31m# second print gives no attribute error\u001b[0m\u001b[0;34m\u001b[0m\u001b[0;34m\u001b[0m\u001b[0;34m\u001b[0m\u001b[0m\n",
      "\u001b[0;31mAttributeError\u001b[0m: 'Person' object has no attribute 'age'"
     ]
    }
   ],
   "source": [
    "# Delete the age property from the p1 object:\n",
    "\n",
    "print(John.age)\n",
    "del John.age\n",
    "print(John.age)\n",
    "\n",
    "# second print gives no attribute error"
   ]
  },
  {
   "cell_type": "markdown",
   "id": "amino-exclusive",
   "metadata": {},
   "source": [
    "## Delete Objects\n",
    "You can delete objects by using the del keyword:"
   ]
  },
  {
   "cell_type": "code",
   "execution_count": 48,
   "id": "blond-routine",
   "metadata": {},
   "outputs": [],
   "source": [
    "# Delete the p1 object:\n",
    "\n",
    "del John"
   ]
  },
  {
   "cell_type": "markdown",
   "id": "standard-enlargement",
   "metadata": {},
   "source": [
    "## The pass Statement\n",
    "class definitions cannot be empty, but if you for some reason have a class definition with no content, put in the pass statement to avoid getting an error."
   ]
  },
  {
   "cell_type": "code",
   "execution_count": 1,
   "id": "smooth-audio",
   "metadata": {},
   "outputs": [],
   "source": [
    "class MyClass:\n",
    "    pass"
   ]
  },
  {
   "cell_type": "markdown",
   "id": "outside-alert",
   "metadata": {},
   "source": [
    "## Python MetaClass\n",
    "Python metaclass A metaclass is the class of a class. A class defines how an instance of a class i.e.; an object behaves whilst a metaclass defines how a class behaves. A class is an instance of a metaclass.\n",
    "\n",
    "In the same way that a class functions as a template for the creation of objects, a metaclass functions as a template for the creation of classes."
   ]
  },
  {
   "cell_type": "code",
   "execution_count": 2,
   "id": "single-constitutional",
   "metadata": {},
   "outputs": [],
   "source": [
    "class MyMeta(type):\n",
    "    def __new__(cls, clsname,superclasses, attrdict):\n",
    "        print(\"class name:{}\".format(clsname))\n",
    "        print(\"super class name{}\".format(superclasses))\n",
    "        print(\"attribute dict{}\".format(attrdict))\n",
    "        return type.__new__(cls, clsname, superclasses, attrdict)\n",
    "    \n",
    "#  __new__ method will be called when an object is created and __init__ method will be called to initialize the\n",
    "# object. In the base class object, the __new__ method is defined as a static method which requires to pass a\n",
    "# parameter cls. cls represents the class that is needed to be instantiated, and the compiler automatically\n",
    "# provides this parameter at the time of instantiation. "
   ]
  },
  {
   "cell_type": "code",
   "execution_count": 11,
   "id": "concerned-evans",
   "metadata": {},
   "outputs": [
    {
     "name": "stdout",
     "output_type": "stream",
     "text": [
      "class name:test1\n",
      "super class name()\n",
      "attribute dict{'__module__': '__main__', '__qualname__': 'test1'}\n"
     ]
    }
   ],
   "source": [
    "class test1(metaclass=MyMeta):\n",
    "    pass\n",
    "\n",
    "\n",
    "# class test2(test1, metaclass=MyMeta):\n",
    "#     pass"
   ]
  }
 ],
 "metadata": {
  "kernelspec": {
   "display_name": "Python 3",
   "language": "python",
   "name": "python3"
  },
  "language_info": {
   "codemirror_mode": {
    "name": "ipython",
    "version": 3
   },
   "file_extension": ".py",
   "mimetype": "text/x-python",
   "name": "python",
   "nbconvert_exporter": "python",
   "pygments_lexer": "ipython3",
   "version": "3.8.7"
  }
 },
 "nbformat": 4,
 "nbformat_minor": 5
}
