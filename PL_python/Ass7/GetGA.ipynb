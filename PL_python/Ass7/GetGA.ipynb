{
 "cells": [
  {
   "cell_type": "code",
   "execution_count": 4,
   "metadata": {},
   "outputs": [],
   "source": [
    "#1\n",
    "\n",
    "#Write a program GetGA.py that uses the GettheAddresses.txt to grab a text file containing \n",
    "#the Gettysburg Address. Have the program write this to a file named ga.txt.\n",
    "def otherFile():\n",
    "    with open(\"GettheAdresses.txt\") as f:\n",
    "        with open(\"ga.txt\", \"w\") as f1:\n",
    "            for line in f:\n",
    "                f1.write(line)\n",
    "\n",
    "otherFile()"
   ]
  },
  {
   "cell_type": "code",
   "execution_count": 5,
   "metadata": {},
   "outputs": [
    {
     "name": "stdout",
     "output_type": "stream",
     "text": [
      "Count statistics in file ga.txt\n",
      "The number of lines is ###  24\n",
      "The number of words is ###   278\n"
     ]
    }
   ],
   "source": [
    "#2\n",
    "\n",
    "#Write a program WordLineCounts.py that counts the number of lines and words in ga.txt, printing the resulting counts to the terminal.\n",
    "def wordLineCounts():\n",
    "    file = open(\"ga.txt\",\"r\")\n",
    "    lineCount = 0\n",
    "    \n",
    "    content = file.read()\n",
    "    coList = content.split(\"\\n\")\n",
    "    \n",
    "    print(\"Count statistics in file ga.txt\")\n",
    "    \n",
    "    for i in coList:\n",
    "        if i:\n",
    "            lineCount += 1\n",
    "    print(\"The number of lines is ### \", lineCount)   \n",
    "    \n",
    "    wordCount = 0\n",
    "    words = content.split()\n",
    "    for j in words:\n",
    "        if j:\n",
    "            wordCount += 1\n",
    "    print(\"The number of words is ###  \",wordCount)        \n",
    "    \n",
    "    \n",
    "wordLineCounts()"
   ]
  },
  {
   "cell_type": "code",
   "execution_count": 7,
   "metadata": {},
   "outputs": [
    {
     "name": "stdout",
     "output_type": "stream",
     "text": [
      "{'a': 102, 'e': 165, 'i': 68, 'o': 93, 'u': 21}\n"
     ]
    }
   ],
   "source": [
    "#3\n",
    "\n",
    "#Write a program VowelCounts.py that reads in ga.txt and counts the number of each kind of vowel, printing the results for each vowel to the terminal. Annotate the output so that it is understandable.\n",
    "def vowelCounts():\n",
    "    # string of vowels\n",
    "    vowels = 'aeiou'\n",
    "    \n",
    "    file = open(\"ga.txt\",\"r\")\n",
    "    content = file.read()\n",
    "    \n",
    "    # make it suitable for caseless comparisions\n",
    "    content = content.casefold()\n",
    "    \n",
    "    # make a dictionary with each vowel a key and value 0\n",
    "    count = {}.fromkeys(vowels,0)\n",
    "    \n",
    "    # count the vowels\n",
    "    for char in content:\n",
    "        if char in count:\n",
    "            count[char] += 1\n",
    "            \n",
    "    print(count)        \n",
    "\n",
    "\n",
    "vowelCounts()"
   ]
  },
  {
   "cell_type": "code",
   "execution_count": 8,
   "metadata": {},
   "outputs": [],
   "source": [
    "#4\n",
    "\n",
    "#Write a program SortFile.py that reads in and alphabetically sorts the lines (not individual words) in ga.txt and outputs those lines to a new file ga_sorted.txt.\n",
    "def sortAlpha():\n",
    "    with open('ga.txt', 'r') as r:\n",
    "        with open(\"ga_sorted.txt\",\"w\") as f1:\n",
    "            for line in sorted(r):\n",
    "                f1.write(line)\n",
    "#                 print(line, end='')\n",
    "    \n",
    "    \n",
    "sortAlpha()\n",
    "    \n"
   ]
  },
  {
   "cell_type": "code",
   "execution_count": 9,
   "metadata": {},
   "outputs": [],
   "source": [
    "#5\n",
    "\n",
    "#Iterate a chaotic one-dimensional map: Write a program OneDMapIterate.py that iterates the function f(x) = 4.0 x ( 1 - x ). First, set the initial condition x = 0.3. Then apply f(x) repeatedly to each new x. Iterate for 100 steps, printing on each line the iteration number and the successive x values to file onedmap.txt.\n"
   ]
  },
  {
   "cell_type": "code",
   "execution_count": 10,
   "metadata": {},
   "outputs": [],
   "source": [
    "def sortAlpha():\n",
    "    with open('ga.txt', 'r') as r:\n",
    "        with open(\"ga_sorted.txt\",\"w\") as f1:\n",
    "            for line in sorted(r):\n",
    "                f1.write(line)\n",
    "#                 print(line, end='')\n",
    "    \n",
    "    \n",
    "sortAlpha()    "
   ]
  }
 ],
 "metadata": {
  "kernelspec": {
   "display_name": "Python 3",
   "language": "python",
   "name": "python3"
  },
  "language_info": {
   "codemirror_mode": {
    "name": "ipython",
    "version": 3
   },
   "file_extension": ".py",
   "mimetype": "text/x-python",
   "name": "python",
   "nbconvert_exporter": "python",
   "pygments_lexer": "ipython3",
   "version": "3.8.6"
  }
 },
 "nbformat": 4,
 "nbformat_minor": 4
}
