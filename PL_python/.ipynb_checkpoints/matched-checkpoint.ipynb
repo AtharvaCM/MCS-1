{
 "cells": [
  {
   "cell_type": "code",
   "execution_count": 25,
   "id": "dated-binding",
   "metadata": {},
   "outputs": [
    {
     "name": "stdout",
     "output_type": "stream",
     "text": [
      "enter a string to check: zz(aa)da()\n",
      "matched\n"
     ]
    }
   ],
   "source": [
    "def matched(s):\n",
    "    stk = []\n",
    "    flag = False\n",
    "    for i in s:\n",
    "        if i == \"(\":\n",
    "            stk.append(i)\n",
    "#             print(stk)\n",
    "        elif i == \")\":\n",
    "            try:\n",
    "                stk.remove(\"(\")\n",
    "            except:\n",
    "                flag = True\n",
    "#             print(stk)\n",
    "    if not flag and not stk:\n",
    "        print(\"matched\")\n",
    "    else:\n",
    "        print(\"not matched\")\n",
    "        \n",
    "\n",
    "s = input(\"enter a string to check: \")\n",
    "matched(s)"
   ]
  }
 ],
 "metadata": {
  "kernelspec": {
   "display_name": "Python 3",
   "language": "python",
   "name": "python3"
  },
  "language_info": {
   "codemirror_mode": {
    "name": "ipython",
    "version": 3
   },
   "file_extension": ".py",
   "mimetype": "text/x-python",
   "name": "python",
   "nbconvert_exporter": "python",
   "pygments_lexer": "ipython3",
   "version": "3.8.7"
  }
 },
 "nbformat": 4,
 "nbformat_minor": 5
}
