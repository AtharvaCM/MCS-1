{
 "cells": [
  {
   "cell_type": "code",
   "execution_count": null,
   "metadata": {},
   "outputs": [],
   "source": [
    "# 1.Write a Python program to find those numbers which are divisible by 7 and multiple of 5, between 1500 and 2700\n",
    "# (both included).\n",
    "\n",
    "numbers = []\n",
    "for num in range(1500, 2700):\n",
    "    if (num % 7 == 0) and (num % 5 == 0):\n",
    "        numbers.append(num)\n",
    "print(numbers)"
   ]
  },
  {
   "cell_type": "code",
   "execution_count": null,
   "metadata": {},
   "outputs": [],
   "source": [
    "# 2.Write a Python program to convert temperatures to and from Celsius, Fahrenheit.\n",
    "\n",
    "scale = int(input('Choose one - Celsius(1) or Fahrenheit(2): '))\n",
    "temp = float(input('Enter a temperature value: '))\n",
    "print(scale, temp)\n",
    "\n",
    "if scale == 1:\n",
    "#     (0°C × 9/5) + 32 = 32°F\n",
    "    temp_f = (temp * 9/5) + 32\n",
    "    print('Temeprature in Fahrenheit: ', temp_f)\n",
    "elif scale == 2:\n",
    "#     (32°F − 32) × 5/9 = 0°C\n",
    "    temp_c = round((temp - 32) * 5/9, 4)\n",
    "    print('Temeprature in Celsius: ', temp_c)\n",
    "else:\n",
    "    print('Choose correct option !')"
   ]
  },
  {
   "cell_type": "code",
   "execution_count": 27,
   "metadata": {},
   "outputs": [
    {
     "name": "stdout",
     "output_type": "stream",
     "text": [
      "Guess a number between 1 - 9: 9\n",
      "\tKEKW, Guess again!\n",
      "Guess a number between 1 - 9: 9\n",
      "\tKEKW, Guess again!\n",
      "Guess a number between 1 - 9: 5\n",
      "\tKEKW, Guess again!\n",
      "Guess a number between 1 - 9: 4\n",
      "\tKEKW, Guess again!\n",
      "Guess a number between 1 - 9: 3\n",
      "You guessed right!\n"
     ]
    }
   ],
   "source": [
    "# 3.Write a Python program to guess a number between 1 to 9.Note:User is prompted to enter a guess.If the user \n",
    "# guesses wrong then the prompt appears again until the guess is correct, on successful guess, user will get a\n",
    "# \"Well guessed!\" message, and the program will exit.\n",
    "import random\n",
    "\n",
    "match = random.randint(1, 9)\n",
    "guess = int(input('Guess a number between 1 - 9: '))\n",
    "while (guess < 1 or guess > 9):\n",
    "    print('\\tInvalid range for guessing -_-')\n",
    "    guess = int(input('Guess a number between 1 - 9: '))\n",
    "else:\n",
    "    # code if range is okay\n",
    "    while guess != match:\n",
    "        print('\\tKEKW, Guess again!')\n",
    "        guess = int(input('Guess a number between 1 - 9: '))\n",
    "        while (guess < 1 or guess > 9):\n",
    "            print('Invalid range for guessing -_-')\n",
    "            guess = int(input('Guess a number between 1 - 9: '))\n",
    "    else:\n",
    "        print('You guessed right!')"
   ]
  },
  {
   "cell_type": "code",
   "execution_count": 8,
   "metadata": {},
   "outputs": [
    {
     "name": "stdout",
     "output_type": "stream",
     "text": [
      "Enter a number: 10\n",
      "\n",
      "*\n",
      "**\n",
      "***\n",
      "****\n",
      "*****\n",
      "****\n",
      "***\n",
      "**\n",
      "*\n",
      "\n"
     ]
    }
   ],
   "source": [
    "# 4.Write a Python program to construct the following pattern, using a nested for loop.\n",
    "# * * * * * * * * * * * * * * * * * * * * * * * * *\n",
    "\n",
    "j = 0\n",
    "n = int(input('Enter a number: '))\n",
    "for i in range(n+1):\n",
    "    if i < (n/2):\n",
    "        print(i*'*')\n",
    "    else:\n",
    "        print((i-j)*'*')\n",
    "        j += 2"
   ]
  },
  {
   "cell_type": "code",
   "execution_count": 10,
   "metadata": {},
   "outputs": [
    {
     "name": "stdout",
     "output_type": "stream",
     "text": [
      "Enter a word to reverse: ezz lyf\n",
      "Reversed:  fyl zze\n"
     ]
    }
   ],
   "source": [
    "# 5.Write a Python program that accepts a word from the user and reverse it.\n",
    "\n",
    "word = input('Enter a word to reverse: ')\n",
    "reversed_word = word [::-1]\n",
    "print('Reversed: ', reversed_word)"
   ]
  },
  {
   "cell_type": "code",
   "execution_count": 26,
   "metadata": {},
   "outputs": [
    {
     "name": "stdout",
     "output_type": "stream",
     "text": [
      "Enter sample numbers (comma separated): 1,2,3,4,5\n",
      "Number of Even numbers:  2\n",
      "Number of Odd numbers:  3\n"
     ]
    }
   ],
   "source": [
    "# 6.Write a Python program to count the number of even and odd numbers from a series of numbers.\n",
    "# Sample numbers: numbers=[1,2,3,4,5,6,7,8,9] Expected Output:Number of even numbers : 5Number of odd numbers : 4\n",
    "\n",
    "inp = input('Enter sample numbers (comma separated): ')\n",
    "nos = inp.split(',')\n",
    "# print(nos)\n",
    "even = []\n",
    "odd = []\n",
    "for num in nos:\n",
    "    if int(num) % 2 == 0:\n",
    "        even.append(int(num))\n",
    "    elif int(num) % 2 == 1:\n",
    "        odd.append(int(num))\n",
    "print('Number of Even numbers: ', len(even))\n",
    "print('Number of Odd numbers: ', len(odd))"
   ]
  },
  {
   "cell_type": "code",
   "execution_count": 30,
   "metadata": {},
   "outputs": [
    {
     "name": "stdout",
     "output_type": "stream",
     "text": [
      "1452 :-  <class 'int'>\n",
      "11.23 :-  <class 'float'>\n",
      "(1+2j) :-  <class 'complex'>\n",
      "True :-  <class 'bool'>\n",
      "Moderncollege :-  <class 'str'>\n",
      "(0, -1) :-  <class 'tuple'>\n",
      "[5, 12] :-  <class 'list'>\n",
      "{'class': 'V', 'section': 'A'} :-  <class 'dict'>\n"
     ]
    }
   ],
   "source": [
    "# 7.Write a Python program that prints each item and its corresponding type from the following list.\n",
    "# Sample List: datalist = [1452, 11.23, 1+2j, True, ‘Moderncollege’, (0,-1), [5,12], {\"class\":'V', \"section\":'A'}]\n",
    "\n",
    "datalist = [1452, 11.23, 1+2j, True, 'Moderncollege', (0,-1), [5,12], {\"class\":'V', \"section\":'A'}]\n",
    "\n",
    "for item in datalist:\n",
    "    print(item, ':- ', type(item))"
   ]
  },
  {
   "cell_type": "code",
   "execution_count": 32,
   "metadata": {},
   "outputs": [
    {
     "name": "stdout",
     "output_type": "stream",
     "text": [
      "0\n",
      "1\n",
      "2\n",
      "4\n",
      "5\n"
     ]
    }
   ],
   "source": [
    "# 8.Write a Python program that prints all the numbers from 0 to 6 except 3 and 6.Note : Use 'continue' \n",
    "# statement.Expected Output : 0 1 2 4 5\n",
    "\n",
    "for i in range(7):\n",
    "    if i == 3 or i == 6:\n",
    "        continue\n",
    "    print(i)"
   ]
  },
  {
   "cell_type": "code",
   "execution_count": 34,
   "metadata": {},
   "outputs": [
    {
     "name": "stdout",
     "output_type": "stream",
     "text": [
      "0\n",
      "1\n",
      "1\n",
      "2\n",
      "3\n",
      "5\n",
      "8\n",
      "13\n",
      "21\n",
      "34\n"
     ]
    }
   ],
   "source": [
    "# 9.Write a Python program to get the Fibonacci series between 0 to 50.Note : The Fibonacci Sequence is the series\n",
    "# of numbers :0, 1, 1, 2, 3, 5, 8, 13, 21, ....Every next number is found by adding up the two numbers before it.\n",
    "# Expected Output : 1 1 2 3 5 8 13 21 34\n",
    "\n",
    "a, b = 0, 1\n",
    "while a < 50:\n",
    "    print(a)\n",
    "    a, b = b, a+b"
   ]
  },
  {
   "cell_type": "code",
   "execution_count": 40,
   "metadata": {},
   "outputs": [
    {
     "name": "stdout",
     "output_type": "stream",
     "text": [
      "1\n",
      "2\n",
      "Fizz\n",
      "4\n",
      "Buzz\n",
      "Fizz\n",
      "7\n",
      "8\n",
      "Fizz\n",
      "Buzz\n",
      "11\n",
      "Fizz\n",
      "13\n",
      "14\n",
      "FizzBuzz\n",
      "16\n",
      "17\n",
      "Fizz\n",
      "19\n",
      "Buzz\n",
      "Fizz\n",
      "22\n",
      "23\n",
      "Fizz\n",
      "Buzz\n",
      "26\n",
      "Fizz\n",
      "28\n",
      "29\n",
      "FizzBuzz\n",
      "31\n",
      "32\n",
      "Fizz\n",
      "34\n",
      "Buzz\n",
      "Fizz\n",
      "37\n",
      "38\n",
      "Fizz\n",
      "Buzz\n",
      "41\n",
      "Fizz\n",
      "43\n",
      "44\n",
      "FizzBuzz\n",
      "46\n",
      "47\n",
      "Fizz\n",
      "49\n",
      "Buzz\n"
     ]
    }
   ],
   "source": [
    "# 10.Write a Python program which iterates the integers from 1 to 50. For multiples of three print \"Fizz\" instead\n",
    "# of the number and for the multiples of five print \"Buzz\". For numbers which are multiples of both three and five\n",
    "# print \"FizzBuzz\". \n",
    "# Sample Output:\n",
    "# fizzbuzz\n",
    "# 1\n",
    "# 2\n",
    "# fizz\n",
    "# 4\n",
    "# buzz\n",
    "\n",
    "for i in range(1, 51):\n",
    "    if (i % 3 == 0 and i % 5 == 0):\n",
    "        print('FizzBuzz')\n",
    "    elif (i % 3 == 0):\n",
    "        print('Fizz')\n",
    "    elif (i % 5 == 0):\n",
    "        print('Buzz')\n",
    "    else:\n",
    "        print(i)"
   ]
  },
  {
   "cell_type": "code",
   "execution_count": 6,
   "metadata": {},
   "outputs": [
    {
     "name": "stdout",
     "output_type": "stream",
     "text": [
      "Enter m (row): 3\n",
      "Enter n (col): 4\n",
      "[[0, 0, 0, 0], [0, 1, 2, 3], [0, 2, 4, 6]]\n"
     ]
    }
   ],
   "source": [
    "# 11.Write a Python program which takes two digits m (row) and n (column) as input and generates a two-dimensional\n",
    "# array. The element value in the i-th row and j-th column of the array should be i*j.\n",
    "# Note :i = 0,1.., m-1 j = 0,1, n-1. Test Data : Rows = 3, Columns = 4\n",
    "# Expected Result : [[0, 0, 0, 0], \n",
    "#                    [0, 1, 2, 3],\n",
    "#                    [0, 2, 4, 6]]\n",
    "\n",
    "m = int(input(\"Enter m (row): \"))\n",
    "n = int(input(\"Enter n (col): \"))\n",
    "\n",
    "# fill the 2D array with all 0's\n",
    "arr = [[0 for j in range(n)] for i in range(m)]\n",
    "# print(arr)\n",
    "# insert proper values in the 2D array\n",
    "for i in range(m):\n",
    "    for j in range(n):\n",
    "        arr[i][j] = i*j\n",
    "print(arr)"
   ]
  },
  {
   "cell_type": "code",
   "execution_count": 1,
   "metadata": {},
   "outputs": [
    {
     "name": "stdout",
     "output_type": "stream",
     "text": [
      "Enter lines: \n",
      "hi\n",
      "my\n",
      "name is\n",
      "slim shady\n",
      "\n",
      "hi\n",
      "my\n",
      "name is\n",
      "slim shady\n"
     ]
    }
   ],
   "source": [
    "# 12. Write a Python program that accepts a sequence of lines (blank line to terminate) as\n",
    "# input and prints the lines as output (all characters in lower case).\n",
    "\n",
    "print(\"Enter lines: \")\n",
    "lines = [] # store lines in a list\n",
    "\n",
    "while True:\n",
    "    # input lines\n",
    "    l = input()\n",
    "    # check if line is not empty\n",
    "    if l:\n",
    "        lines.append(l)\n",
    "    else:\n",
    "        # blank line, terminate loop\n",
    "        break\n",
    "\n",
    "for l in lines:\n",
    "    print(l)"
   ]
  },
  {
   "cell_type": "code",
   "execution_count": 9,
   "metadata": {},
   "outputs": [
    {
     "name": "stdout",
     "output_type": "stream",
     "text": [
      "Enter 4 digit binary nos (comma separated): 0100,0011,1010,1001,1100,1001\n",
      "['0100', '0011', '1010', '1001', '1100', '1001']\n",
      "['1010']\n"
     ]
    }
   ],
   "source": [
    "# 13. Write a Python program which accepts a sequence of comma separated 4 digit\n",
    "# binary numbers as its input and print the numbers that are divisible by 5 in a comma\n",
    "# separated sequence.\n",
    "# Sample Data: 0100,0011,1010,1001,1100,1001\n",
    "# Expected Output : 1010\n",
    "\n",
    "def binaryToDecimal(binary): \n",
    "      \n",
    "    binary1 = binary \n",
    "    decimal, i, n = 0, 0, 0\n",
    "    while(binary != 0): \n",
    "        dec = binary % 10\n",
    "        decimal = decimal + dec * pow(2, i) \n",
    "        binary = binary//10\n",
    "        i += 1\n",
    "    return decimal\n",
    "\n",
    "inp = input('Enter 4 digit binary nos (comma separated): ')\n",
    "output_list = []\n",
    "bin_list = inp.split(',')\n",
    "print(bin_list)\n",
    "\n",
    "for num in bin_list:\n",
    "    if (binaryToDecimal(int(num)) % 5 == 0):\n",
    "        output_list.append(num)\n",
    "print(output_list)"
   ]
  },
  {
   "cell_type": "code",
   "execution_count": 3,
   "metadata": {},
   "outputs": [
    {
     "name": "stdout",
     "output_type": "stream",
     "text": [
      "Enter a string: abc 123\n",
      "Letters:  3\n",
      "Digits:  3\n"
     ]
    }
   ],
   "source": [
    "# 14. Write a Python program that accepts a string and calculate the number of digits and letters.\n",
    "# Sample Data : Python 3.2\n",
    "# Expected Output :\n",
    "# Letters 6\n",
    "# Digits 2\n",
    "\n",
    "inp = input('Enter a string: ')\n",
    "letter_cnt = 0\n",
    "digit_cnt = 0\n",
    "\n",
    "for char in inp:\n",
    "    if char.isalpha():\n",
    "        letter_cnt += 1\n",
    "    elif char.isdigit():\n",
    "        digit_cnt += 1\n",
    "print('Letters: ', letter_cnt)\n",
    "print('Digits: ', digit_cnt)"
   ]
  },
  {
   "cell_type": "code",
   "execution_count": 5,
   "metadata": {},
   "outputs": [
    {
     "name": "stdout",
     "output_type": "stream",
     "text": [
      "Input your passwordafcasf\n",
      "Not a Valid Password\n"
     ]
    }
   ],
   "source": [
    "# 15. Write a Python program to check the validity of password input by users. Validation:\n",
    "# • At least 1 letter between [a-z] an/d 1 letter between [A-Z].\n",
    "# • At least 1 number between [0-9].\n",
    "# • At least 1 character from [$#@].\n",
    "# • Minimum length 6 characters.\n",
    "# • Maximum length 16 characters.\n",
    "\n",
    "# Regular expression\n",
    "import re\n",
    "\n",
    "passwd = input(\"Input your password\")\n",
    "flag = True\n",
    "while flag:  \n",
    "    if (len(passwd)<6 or len(passwd)>12):\n",
    "        break\n",
    "    elif not re.search(\"[a-z]\",passwd):\n",
    "        break\n",
    "    elif not re.search(\"[0-9]\",passwd):\n",
    "        break\n",
    "    elif not re.search(\"[A-Z]\",passwd):\n",
    "        break\n",
    "    elif not re.search(\"[$#@]\",passwd):\n",
    "        break\n",
    "    elif re.search(\"\\s\",passwd):\n",
    "#         checking if string has whitespaces\n",
    "        break\n",
    "    else:\n",
    "        print(\"Valid Password\")\n",
    "#         If all conditions satisfy make flag false\n",
    "        flag = False\n",
    "        break\n",
    "\n",
    "if flag:\n",
    "    print(\"Not a Valid Password\")"
   ]
  },
  {
   "cell_type": "code",
   "execution_count": 10,
   "metadata": {},
   "outputs": [
    {
     "name": "stdout",
     "output_type": "stream",
     "text": [
      "200,202,204,206,208,220,222,224,226,228,240,242,244,246,248,260,262,264,266,268,280,282,284,286,288,400\n"
     ]
    }
   ],
   "source": [
    "# 16. Write a Python program to find numbers between 100 and 400 (both included)\n",
    "# where each digit of a number is an even number. The numbers obtained should be\n",
    "# printed in a comma-separated sequence.\n",
    "\n",
    "nums = []\n",
    "for i in range(100, 401):\n",
    "#     convert the number into string\n",
    "    s = str(i)\n",
    "    if (int(s[0])%2==0) and (int(s[1])%2==0) and (int(s[2])%2==0):\n",
    "        nums.append(s)\n",
    "\n",
    "# print(nums)\n",
    "print( \",\".join(nums))"
   ]
  },
  {
   "cell_type": "code",
   "execution_count": 11,
   "metadata": {},
   "outputs": [
    {
     "name": "stdout",
     "output_type": "stream",
     "text": [
      "  ***  \n",
      " *   * \n",
      " *   * \n",
      " ***** \n",
      " *   * \n",
      " *   * \n",
      " *   * \n",
      "\n"
     ]
    }
   ],
   "source": [
    "# 17. Write a Python program to print alphabet pattern 'A'.\n",
    "\n",
    "result_str=\"\";    \n",
    "for row in range(0,7):    \n",
    "    for column in range(0,7):     \n",
    "        if (((column == 1 or column == 5) and row != 0) or ((row == 0 or row == 3) and (column > 1 and column < 5))):    \n",
    "            result_str=result_str+\"*\"    \n",
    "        else:      \n",
    "            result_str=result_str+\" \"    \n",
    "    result_str=result_str+\"\\n\"    \n",
    "print(result_str);"
   ]
  },
  {
   "cell_type": "code",
   "execution_count": 12,
   "metadata": {},
   "outputs": [
    {
     "name": "stdout",
     "output_type": "stream",
     "text": [
      " ****  \n",
      " *   * \n",
      " *   * \n",
      " *   * \n",
      " *   * \n",
      " *   * \n",
      " ****  \n",
      "\n"
     ]
    }
   ],
   "source": [
    "# 18. Write a Python program to print alphabet pattern 'D'.\n",
    "\n",
    "result_str=\"\";    \n",
    "for row in range(0,7):    \n",
    "    for column in range(0,7):     \n",
    "        if (column == 1 or ((row == 0 or row == 6) and (column > 1 and column < 5)) or (column == 5 and row != 0 and row != 6)):  \n",
    "            result_str=result_str+\"*\"    \n",
    "        else:      \n",
    "            result_str=result_str+\" \"    \n",
    "    result_str=result_str+\"\\n\"    \n",
    "print(result_str);"
   ]
  },
  {
   "cell_type": "code",
   "execution_count": 13,
   "metadata": {},
   "outputs": [
    {
     "name": "stdout",
     "output_type": "stream",
     "text": [
      " ***** \n",
      " *     \n",
      " *     \n",
      " ****  \n",
      " *     \n",
      " *     \n",
      " ***** \n",
      "\n"
     ]
    }
   ],
   "source": [
    "# 19. Write a Python program to print alphabet pattern 'E'.\n",
    "\n",
    "result_str=\"\";    \n",
    "for row in range(0,7):    \n",
    "    for column in range(0,7):     \n",
    "        if (column == 1 or ((row == 0 or row == 6) and (column > 1 and column < 6)) or (row == 3 and column > 1 and column < 5)):  \n",
    "            result_str=result_str+\"*\"    \n",
    "        else:      \n",
    "            result_str=result_str+\" \"    \n",
    "    result_str=result_str+\"\\n\"    \n",
    "print(result_str);\n"
   ]
  },
  {
   "cell_type": "code",
   "execution_count": 14,
   "metadata": {},
   "outputs": [
    {
     "name": "stdout",
     "output_type": "stream",
     "text": [
      "  ***  \n",
      " *   * \n",
      " *     \n",
      " * *** \n",
      " *   * \n",
      " *   * \n",
      "  ***  \n",
      "\n"
     ]
    }
   ],
   "source": [
    "# 20. Write a Python program to print alphabet pattern 'G'.\n",
    "\n",
    "result_str=\"\";    \n",
    "for row in range(0,7):    \n",
    "    for column in range(0,7):     \n",
    "        if ((column == 1 and row != 0 and row != 6) or ((row == 0 or row == 6) and column > 1 and column < 5) or (row == 3 and column > 2 and column < 6) or (column == 5 and row != 0 and row != 2 and row != 6)):  \n",
    "            result_str=result_str+\"*\"    \n",
    "        else:      \n",
    "            result_str=result_str+\" \"    \n",
    "    result_str=result_str+\"\\n\"    \n",
    "print(result_str);\n"
   ]
  },
  {
   "cell_type": "code",
   "execution_count": 15,
   "metadata": {},
   "outputs": [
    {
     "name": "stdout",
     "output_type": "stream",
     "text": [
      " *     \n",
      " *     \n",
      " *     \n",
      " *     \n",
      " *     \n",
      " *     \n",
      " ***** \n",
      "\n"
     ]
    }
   ],
   "source": [
    "# 21. Write a Python program to print alphabet pattern 'L'.\n",
    "\n",
    "result_str=\"\";    \n",
    "for row in range(0,7):    \n",
    "    for column in range(0,7):     \n",
    "        if (column == 1 or (row == 6 and column != 0 and column < 6)):  \n",
    "            result_str=result_str+\"*\"    \n",
    "        else:      \n",
    "            result_str=result_str+\" \"    \n",
    "    result_str=result_str+\"\\n\"    \n",
    "print(result_str);\n"
   ]
  },
  {
   "cell_type": "code",
   "execution_count": 16,
   "metadata": {},
   "outputs": [
    {
     "name": "stdout",
     "output_type": "stream",
     "text": [
      "  *       *   \n",
      "  *       *   \n",
      "  * *   * *   \n",
      "  *   *   *   \n",
      "  *       *   \n",
      "  *       *   \n",
      "  *       *   \n",
      "\n"
     ]
    }
   ],
   "source": [
    "# 22. Write a Python program to print alphabet pattern 'M'.\n",
    "\n",
    "result_str=\"\";    \n",
    "for row in range(0,7):    \n",
    "    for column in range(0,7):     \n",
    "        if (column == 1 or column == 5 or (row == 2 and (column == 2 or column == 4)) or (row == 3 and column == 3)):  \n",
    "            result_str=result_str+\"* \"    \n",
    "        else:      \n",
    "            result_str=result_str+\"  \"    \n",
    "    result_str=result_str+\"\\n\"    \n",
    "print(result_str);\n"
   ]
  },
  {
   "cell_type": "code",
   "execution_count": 17,
   "metadata": {},
   "outputs": [
    {
     "name": "stdout",
     "output_type": "stream",
     "text": [
      "  ***  \n",
      " *   * \n",
      " *   * \n",
      " *   * \n",
      " *   * \n",
      " *   * \n",
      "  ***  \n",
      "\n"
     ]
    }
   ],
   "source": [
    "# 23. Write a Python program to print alphabet pattern 'O'. Expected Output:\n",
    "\n",
    "result_str=\"\";    \n",
    "for row in range(0,7):    \n",
    "    for column in range(0,7):     \n",
    "        if (((column == 1 or column == 5) and row != 0 and row != 6) or ((row == 0 or row == 6) and column > 1 and column < 5)):  \n",
    "            result_str=result_str+\"*\"    \n",
    "        else:      \n",
    "            result_str=result_str+\" \"    \n",
    "    result_str=result_str+\"\\n\"    \n",
    "print(result_str);\n"
   ]
  },
  {
   "cell_type": "code",
   "execution_count": 18,
   "metadata": {},
   "outputs": [
    {
     "name": "stdout",
     "output_type": "stream",
     "text": [
      " ****  \n",
      " *   * \n",
      " *   * \n",
      " ****  \n",
      " *     \n",
      " *     \n",
      " *     \n",
      "\n"
     ]
    }
   ],
   "source": [
    "# 24. Write a Python program to print alphabet pattern 'P'.\n",
    "\n",
    "result_str=\"\";    \n",
    "for row in range(0,7):    \n",
    "    for column in range(0,7):     \n",
    "        if (column == 1 or ((row == 0 or row == 3) and column > 0 and column < 5) or ((column == 5 or column == 1) and (row == 1 or row == 2))):  \n",
    "            result_str=result_str+\"*\"    \n",
    "        else:      \n",
    "            result_str=result_str+\" \"    \n",
    "    result_str=result_str+\"\\n\"    \n",
    "print(result_str);\n"
   ]
  },
  {
   "cell_type": "code",
   "execution_count": 19,
   "metadata": {},
   "outputs": [
    {
     "name": "stdout",
     "output_type": "stream",
     "text": [
      " ****  \n",
      " *   * \n",
      " *   * \n",
      " ****  \n",
      " * *   \n",
      " *  *  \n",
      " *   * \n",
      "\n"
     ]
    }
   ],
   "source": [
    "# 25. Write a Python program to print alphabet pattern 'R'. Expected Output:\n",
    "\n",
    "result_str=\"\";    \n",
    "for row in range(0,7):    \n",
    "    for column in range(0,7):     \n",
    "        if (column == 1 or ((row == 0 or row == 3) and column > 1 and column < 5) or (column == 5 and row != 0 and row < 3) or (column == row - 1 and row > 2)):  \n",
    "            result_str=result_str+\"*\"    \n",
    "        else:      \n",
    "            result_str=result_str+\" \"    \n",
    "    result_str=result_str+\"\\n\"    \n",
    "print(result_str);\n"
   ]
  },
  {
   "cell_type": "code",
   "execution_count": 20,
   "metadata": {},
   "outputs": [
    {
     "name": "stdout",
     "output_type": "stream",
     "text": [
      "  **** \n",
      " *     \n",
      " *     \n",
      "  ***  \n",
      "     * \n",
      "     * \n",
      " ****  \n",
      "\n",
      "ooooooooooooooooo\n",
      "ooooooooooooooooo\n",
      "ooooooooooooooooo\n",
      "oooo\n",
      "oooo\n",
      "oooo\n",
      "ooooooooooooooooo\n",
      "ooooooooooooooooo\n",
      "ooooooooooooooooo\n",
      "             oooo\n",
      "             oooo\n",
      "             oooo\n",
      "ooooooooooooooooo\n",
      "ooooooooooooooooo\n",
      "ooooooooooooooooo\n",
      "\n"
     ]
    }
   ],
   "source": [
    "# 26. Write a Python program to print the following patterns.\n",
    "\n",
    "result_str=\"\";    \n",
    "for row in range(0,7):    \n",
    "    for column in range(0,7):     \n",
    "        if (((row == 0 or row == 3 or row == 6) and column > 1 and column < 5) or (column == 1 and (row == 1 or row == 2 or row == 6)) or (column == 5 and (row == 0 or row == 4 or row == 5))):  \n",
    "            result_str=result_str+\"*\"    \n",
    "        else:      \n",
    "            result_str=result_str+\" \"    \n",
    "    result_str=result_str+\"\\n\"    \n",
    "print(result_str);\n",
    "\n",
    "row=15    \n",
    "col=18   \n",
    "result_str=\"\"    \n",
    "for i in range(1,row+1):    \n",
    "    if((i<=3)or(i>=7 and i<=9)or(i>=13 and i<=15)):    \n",
    "        for j in range(1,col):    \n",
    "            result_str=result_str+\"o\"    \n",
    "        result_str=result_str+\"\\n\"    \n",
    "    elif(i>=4 and i<=6):    \n",
    "        for j in range(1,5):    \n",
    "            result_str=result_str+\"o\"    \n",
    "        result_str=result_str+\"\\n\"    \n",
    "    else:    \n",
    "        for j in range(1,14):    \n",
    "            result_str=result_str+\" \"    \n",
    "        for j in range(1,5):    \n",
    "            result_str=result_str+\"o\"    \n",
    "        result_str=result_str+\"\\n\"    \n",
    "print(result_str);\n"
   ]
  },
  {
   "cell_type": "code",
   "execution_count": 21,
   "metadata": {},
   "outputs": [
    {
     "name": "stdout",
     "output_type": "stream",
     "text": [
      " ***** \n",
      "   *   \n",
      "   *   \n",
      "   *   \n",
      "   *   \n",
      "   *   \n",
      "   *   \n",
      "\n"
     ]
    }
   ],
   "source": [
    "# 27. Write a Python program to print alphabet pattern 'T'.\n",
    "\n",
    "result_str=\"\";    \n",
    "for row in range(0,7):    \n",
    "    for column in range(0,7):     \n",
    "        if (column == 3 or (row == 0 and column > 0 and column <6)):  \n",
    "            result_str=result_str+\"*\"    \n",
    "        else:      \n",
    "            result_str=result_str+\" \"    \n",
    "    result_str=result_str+\"\\n\"    \n",
    "print(result_str);\n"
   ]
  },
  {
   "cell_type": "code",
   "execution_count": 22,
   "metadata": {},
   "outputs": [
    {
     "name": "stdout",
     "output_type": "stream",
     "text": [
      " *   * \n",
      " *   * \n",
      " *   * \n",
      " *   * \n",
      " *   * \n",
      " *   * \n",
      "  ***  \n",
      "\n"
     ]
    }
   ],
   "source": [
    "# 28. Write a Python program to print alphabet pattern 'U'.\n",
    "\n",
    "\n",
    "result_str=\"\";    \n",
    "for row in range(0,7):    \n",
    "    for column in range(0,7):     \n",
    "        if (((column == 1 or column == 5) and row != 6) or (row == 6 and column > 1 and column < 5)):  \n",
    "            result_str=result_str+\"*\"    \n",
    "        else:      \n",
    "            result_str=result_str+\" \"    \n",
    "    result_str=result_str+\"\\n\"    \n",
    "print(result_str);\n"
   ]
  },
  {
   "cell_type": "code",
   "execution_count": 23,
   "metadata": {},
   "outputs": [
    {
     "name": "stdout",
     "output_type": "stream",
     "text": [
      " *   * \n",
      " *   * \n",
      "  * *  \n",
      "   *   \n",
      "  * *  \n",
      " *   * \n",
      " *   * \n",
      "\n"
     ]
    }
   ],
   "source": [
    "# 29. Write a Python program to print alphabet pattern 'X'. Expected Output:\n",
    "\n",
    "result_str=\"\";    \n",
    "for row in range(0,7):    \n",
    "    for column in range(0,7):     \n",
    "        if (((column == 1 or column == 5) and (row > 4 or row < 2)) or row == column and column > 0 and column < 6 or (column == 2 and row == 4) or (column == 4 and row == 2)):  \n",
    "            result_str=result_str+\"*\"    \n",
    "        else:      \n",
    "            result_str=result_str+\" \"    \n",
    "    result_str=result_str+\"\\n\"    \n",
    "print(result_str);\n"
   ]
  },
  {
   "cell_type": "code",
   "execution_count": 24,
   "metadata": {},
   "outputs": [
    {
     "name": "stdout",
     "output_type": "stream",
     "text": [
      "*******\n",
      "     * \n",
      "    *  \n",
      "   *   \n",
      "  *    \n",
      " *     \n",
      "*******\n",
      "\n"
     ]
    }
   ],
   "source": [
    "# 30. Write a Python program to print alphabet pattern 'Z'. Expected Output:\n",
    "\n",
    "result_str=\"\";    \n",
    "for row in range(0,7):    \n",
    "    for column in range(0,7):     \n",
    "        if (((row == 0 or row == 6) and column >= 0 and column <= 6) or row+column==6):  \n",
    "            result_str=result_str+\"*\"    \n",
    "        else:      \n",
    "            result_str=result_str+\" \"    \n",
    "    result_str=result_str+\"\\n\"    \n",
    "print(result_str);\n"
   ]
  },
  {
   "cell_type": "code",
   "execution_count": 25,
   "metadata": {},
   "outputs": [
    {
     "name": "stdout",
     "output_type": "stream",
     "text": [
      "Input a doge's age in human years: 15\n",
      "The doge's age in doge's years is 73\n"
     ]
    }
   ],
   "source": [
    "# 31. Write a Python program to calculate a dog's age in dog's years. Note: For the first\n",
    "# two years, a dog year is equal to 10.5 human years. After that, each dog year equals 4 human years.\n",
    "# Expected Output:\n",
    "# Input a dog's age in human years: 15\n",
    "# The dog's age in dog's years is 73\n",
    "\n",
    "h_age = int(input(\"Input a doge's age in human years: \"))\n",
    "\n",
    "if h_age < 0:\n",
    "    print(\"Age must be positive number.\")\n",
    "    exit()\n",
    "elif h_age <= 2:\n",
    "    d_age = h_age * 10.5\n",
    "else:\n",
    "#     sum of 2 human yeas for doge\n",
    "    d_age = 21 + (h_age - 2)*4\n",
    "\n",
    "print(\"The doge's age in doge's years is\", d_age)\n"
   ]
  },
  {
   "cell_type": "code",
   "execution_count": 26,
   "metadata": {},
   "outputs": [
    {
     "name": "stdout",
     "output_type": "stream",
     "text": [
      "Enter a letter of the alphabet: k\n",
      "k is a consonant.\n"
     ]
    }
   ],
   "source": [
    "# 32. Write a Python program to check whether an alphabet is a vowel or consonant.\n",
    "# Expected Output:\n",
    "# Input a letter of the alphabet: k\n",
    "# k is a consonant.\n",
    "\n",
    "let = input(\"Enter a letter of the alphabet: \")\n",
    "\n",
    "if let in ('a', 'e', 'i', 'o', 'u'):\n",
    "    print(\"%s is a vowel.\" % let)\n",
    "else:\n",
    "    print(\"%s is a consonant.\" % let) "
   ]
  },
  {
   "cell_type": "code",
   "execution_count": 27,
   "metadata": {},
   "outputs": [
    {
     "name": "stdout",
     "output_type": "stream",
     "text": [
      "List of months: January, February, March, April, May, June, July, August, September, October, November, December\n",
      "Input the name of Month: April\n",
      "No. of days: 30 days\n"
     ]
    }
   ],
   "source": [
    "# 33. Write a Python program to convert month name to a number of days. Expected\n",
    "# Output:\n",
    "# List of months: January, February, March, April, May, June, July, August, September, October, November, December\n",
    "# Input the name of Month: February\n",
    "# No. of days: 28/29 days\n",
    "\n",
    "print(\"List of months: January, February, March, April, May, June, July, August, September, October, November, December\")\n",
    "month_name = input(\"Input the name of Month: \")\n",
    "\n",
    "if month_name == \"February\":\n",
    "    print(\"No. of days: 28/29 days\")\n",
    "elif month_name in (\"April\", \"June\", \"September\", \"November\"):\n",
    "    print(\"No. of days: 30 days\")\n",
    "elif month_name in (\"January\", \"March\", \"May\", \"July\", \"August\", \"October\", \"December\"):\n",
    "    print(\"No. of days: 31 day\")\n",
    "else:\n",
    "    print(\"Wrong month name! zzzz\") "
   ]
  },
  {
   "cell_type": "code",
   "execution_count": 30,
   "metadata": {},
   "outputs": [
    {
     "name": "stdout",
     "output_type": "stream",
     "text": [
      "Enter first number for addition: 8\n",
      "Enter second number for addition: 8\n",
      "20\n"
     ]
    }
   ],
   "source": [
    "# 34. Write a Python program to sum of two given integers. However, if the sum is\n",
    "# between 15 to 20 it will return 20.\n",
    "\n",
    "def sum(x, y):\n",
    "    sum = x + y\n",
    "    if sum in range(15, 20):\n",
    "        return 20\n",
    "    else:\n",
    "        return sum\n",
    "    \n",
    "x = int(input('Enter first number for addition: '))\n",
    "y = int(input('Enter second number for addition: '))\n",
    "\n",
    "print(sum(x, y))"
   ]
  },
  {
   "cell_type": "code",
   "execution_count": 32,
   "metadata": {},
   "outputs": [
    {
     "name": "stdout",
     "output_type": "stream",
     "text": [
      "Input a string: 456\n",
      "The string is an integer.\n"
     ]
    }
   ],
   "source": [
    "# 35. Write a Python program to check a string represent an integer or not. Expected\n",
    "# Output:\n",
    "# Input a string: Python\n",
    "# The string is not an integer.\n",
    "\n",
    "string = input(\"Input a string: \")\n",
    "string = string.strip()\n",
    "if len(string) < 1:\n",
    "    print(\"Input a valid text\")\n",
    "else:\n",
    "#     The all() function returns True if all items in an iterable are true, otherwise it returns False\n",
    "    if all(string[i] in \"0123456789\" for i in range(len(string))):\n",
    "        print(\"The string is an integer.\")\n",
    "    elif (string[0] in \"+-\") and \\\n",
    "         all(string[i] in \"0123456789\" for i in range(1,len(string))):\n",
    "         print(\"The string is an integer.\")\n",
    "    else:\n",
    "        print(\"The string is not an integer.\") "
   ]
  },
  {
   "cell_type": "code",
   "execution_count": 35,
   "metadata": {},
   "outputs": [
    {
     "name": "stdout",
     "output_type": "stream",
     "text": [
      "Input lengths of the triangle sides: \n",
      "x: 6\n",
      "y: 8\n",
      "z: 12\n",
      "Scalene triangle\n"
     ]
    }
   ],
   "source": [
    "# 36. Write a Python program to check a triangle is equilateral, isosceles or scalene.\n",
    "# Note :\n",
    "# An equilateral triangle is a triangle in which all three sides are equal.\n",
    "# A scalene triangle is a triangle that has three unequal sides.\n",
    "# An isosceles triangle is a triangle with (at least) two equal sides.\n",
    "# Expected Output:\n",
    "# Input lengths of the triangle sides:\n",
    "# x: 6\n",
    "# y: 8\n",
    "# z: 12\n",
    "# Scalene triangle\n",
    "\n",
    "print(\"Input lengths of the triangle sides: \")\n",
    "x = int(input(\"x: \"))\n",
    "y = int(input(\"y: \"))\n",
    "z = int(input(\"z: \"))\n",
    "\n",
    "if x == y == z:\n",
    "    print(\"Equilateral triangle\")\n",
    "elif x==y or y==z or z==x:\n",
    "    print(\"Isosceles triangle\")\n",
    "else:\n",
    "    print(\"Scalene triangle\")"
   ]
  },
  {
   "cell_type": "code",
   "execution_count": 36,
   "metadata": {},
   "outputs": [
    {
     "name": "stdout",
     "output_type": "stream",
     "text": [
      "Input the month (e.g. January, February etc.): April\n",
      "Input the day: 16\n",
      "Season is spring\n"
     ]
    }
   ],
   "source": [
    "# 37. Write a Python program that reads two integers representing a month and day and\n",
    "# prints the season for that month and day. Expected Output:\n",
    "# Input the month (e.g. January, February etc.): july\n",
    "# Input the day: 31\n",
    "# Season is autumn\n",
    "\n",
    "month = input(\"Input the month (e.g. January, February etc.): \")\n",
    "day = int(input(\"Input the day: \"))\n",
    "\n",
    "if month in ('January', 'February', 'March'):\n",
    "    season = 'winter'\n",
    "elif month in ('April', 'May', 'June'):\n",
    "    season = 'spring'\n",
    "elif month in ('July', 'August', 'September'):\n",
    "    season = 'summer'\n",
    "else:\n",
    "    season = 'autumn'\n",
    "\n",
    "if (month == 'March') and (day > 19):\n",
    "    season = 'spring'\n",
    "elif (month == 'June') and (day > 20):\n",
    "    season = 'summer'\n",
    "elif (month == 'September') and (day > 21):\n",
    "    season = 'autumn'\n",
    "elif (month == 'December') and (day > 20):\n",
    "    season = 'winter'\n",
    "\n",
    "print(\"Season is\",season)\n"
   ]
  },
  {
   "cell_type": "code",
   "execution_count": 37,
   "metadata": {},
   "outputs": [
    {
     "name": "stdout",
     "output_type": "stream",
     "text": [
      "Input birthday: 15\n",
      "Input month of birth (e.g. march, july etc): may\n",
      "Your Astrological sign is : Taurus\n"
     ]
    }
   ],
   "source": [
    "# 38. Write a Python program to display astrological sign for given date of birth. Expected\n",
    "# Output:\n",
    "# Input birthday: 15\n",
    "# Input month of birth (e.g. march, july etc): may\n",
    "# Your Astrological sign is : Taurus\n",
    "\n",
    "day = int(input(\"Input birthday: \"))\n",
    "month = input(\"Input month of birth (e.g. march, july etc): \")\n",
    "if month == 'december':\n",
    "    astro_sign = 'Sagittarius' if (day < 22) else 'capricorn'\n",
    "elif month == 'january':\n",
    "    astro_sign = 'Capricorn' if (day < 20) else 'aquarius'\n",
    "elif month == 'february':\n",
    "    astro_sign = 'Aquarius' if (day < 19) else 'pisces'\n",
    "elif month == 'march':\n",
    "    astro_sign = 'Pisces' if (day < 21) else 'aries'\n",
    "elif month == 'april':\n",
    "    astro_sign = 'Aries' if (day < 20) else 'taurus'\n",
    "elif month == 'may':\n",
    "    astro_sign = 'Taurus' if (day < 21) else 'gemini'\n",
    "elif month == 'june':\n",
    "    astro_sign = 'Gemini' if (day < 21) else 'cancer'\n",
    "elif month == 'july':\n",
    "    astro_sign = 'Cancer' if (day < 23) else 'leo'\n",
    "elif month == 'august':\n",
    "    astro_sign = 'Leo' if (day < 23) else 'virgo'\n",
    "elif month == 'september':\n",
    "    astro_sign = 'Virgo' if (day < 23) else 'libra'\n",
    "elif month == 'october':\n",
    "    astro_sign = 'Libra' if (day < 23) else 'scorpio'\n",
    "elif month == 'november':\n",
    "    astro_sign = 'scorpio' if (day < 22) else 'sagittarius'\n",
    "print(\"Your Astrological sign is :\",astro_sign)\n"
   ]
  },
  {
   "cell_type": "code",
   "execution_count": 38,
   "metadata": {},
   "outputs": [
    {
     "name": "stdout",
     "output_type": "stream",
     "text": [
      "Input your birth year: 2000\n",
      "Your Zodiac sign : Dragon\n"
     ]
    }
   ],
   "source": [
    "# 39. Write a Python program to display the sign of the Chinese Zodiac for given year in\n",
    "# which you were born.\n",
    "# Expected Output:\n",
    "# Input your birth year: 1973\n",
    "# Your Zodiac sign : Ox\n",
    "\n",
    "year = int(input(\"Input your birth year: \"))\n",
    "if (year - 2000) % 12 == 0:\n",
    "    sign = 'Dragon'\n",
    "elif (year - 2000) % 12 == 1:\n",
    "    sign = 'Snake'\n",
    "elif (year - 2000) % 12 == 2:\n",
    "    sign = 'Horse'\n",
    "elif (year - 2000) % 12 == 3:\n",
    "    sign = 'sheep'\n",
    "elif (year - 2000) % 12 == 4:\n",
    "    sign = 'Monkey'\n",
    "elif (year - 2000) % 12 == 5:\n",
    "    sign = 'Rooster'\n",
    "elif (year - 2000) % 12 == 6:\n",
    "    sign = 'Dog'\n",
    "elif (year - 2000) % 12 == 7:\n",
    "    sign = 'Pig'\n",
    "elif (year - 2000) % 12 == 8:\n",
    "    sign = 'Rat'\n",
    "elif (year - 2000) % 12 == 9:\n",
    "    sign = 'Ox'\n",
    "elif (year - 2000) % 12 == 10:\n",
    "    sign = 'Tiger'\n",
    "else:\n",
    "    sign = 'Hare'\n",
    "\n",
    "print(\"Your Zodiac sign :\",sign)\n"
   ]
  },
  {
   "cell_type": "code",
   "execution_count": 39,
   "metadata": {},
   "outputs": [
    {
     "name": "stdout",
     "output_type": "stream",
     "text": [
      "Enter first number: 15\n",
      "Enter second number: 26\n",
      "Enter third number: 29\n",
      "The median is 26.0\n"
     ]
    }
   ],
   "source": [
    "# 40. Write a Python program to find the median of three values.\n",
    "# Expected Output:\n",
    "# Input first number: 15\n",
    "# Input second number: 26\n",
    "# Input third number: 29\n",
    "# The median is 26.0\n",
    "\n",
    "a = float(input(\"Enter first number: \"))\n",
    "b = float(input(\"Enter second number: \"))\n",
    "c = float(input(\"Enter third number: \"))\n",
    "if a > b:\n",
    "    if a < c:\n",
    "        median = a\n",
    "    elif b > c:\n",
    "        median = b\n",
    "    else:\n",
    "        median = c\n",
    "else:\n",
    "    if a > c:\n",
    "        median = a\n",
    "    elif b < c:\n",
    "        median = b\n",
    "    else:\n",
    "        median = c\n",
    "\n",
    "print(\"The median is\", median)\n"
   ]
  },
  {
   "cell_type": "code",
   "execution_count": 40,
   "metadata": {},
   "outputs": [
    {
     "name": "stdout",
     "output_type": "stream",
     "text": [
      "Input a year: 2016\n",
      "Input a month [1-12]: 8\n",
      "Input a day [1-31]: 23\n",
      "The next date is [yyyy-mm-dd] 2016-8-24.\n"
     ]
    }
   ],
   "source": [
    "# 41. Write a Python program to get next day of a given date.\n",
    "# Expected Output:\n",
    "# Input a year: 2016\n",
    "# Input a month [1-12]: 08\n",
    "# Input a day [1-31]: 23\n",
    "# The next date is [yyyy-mm-dd] 2016-8-24\n",
    "\n",
    "year = int(input(\"Input a year: \"))\n",
    "\n",
    "if (year % 400 == 0):\n",
    "    leap_year = True\n",
    "elif (year % 100 == 0):\n",
    "    leap_year = False\n",
    "elif (year % 4 == 0):\n",
    "    leap_year = True\n",
    "else:\n",
    "    leap_year = False\n",
    "\n",
    "month = int(input(\"Input a month [1-12]: \"))\n",
    "\n",
    "if month in (1, 3, 5, 7, 8, 10, 12):\n",
    "    month_length = 31\n",
    "elif month == 2:\n",
    "    if leap_year:\n",
    "        month_length = 29\n",
    "    else:\n",
    "        month_length = 28\n",
    "else:\n",
    "    month_length = 30\n",
    "\n",
    "\n",
    "day = int(input(\"Input a day [1-31]: \"))\n",
    "\n",
    "if day < month_length:\n",
    "    day += 1\n",
    "else:\n",
    "    day = 1\n",
    "    if month == 12:\n",
    "        month = 1\n",
    "        year += 1\n",
    "    else:\n",
    "        month += 1\n",
    "print(\"The next date is [yyyy-mm-dd] %d-%d-%d.\" % (year, month, day))\n"
   ]
  },
  {
   "cell_type": "code",
   "execution_count": 41,
   "metadata": {},
   "outputs": [
    {
     "name": "stdout",
     "output_type": "stream",
     "text": [
      "Input some integers to calculate their sum and average. Input 0 to exit.\n",
      "1\n",
      "2\n",
      "5\n",
      "69\n",
      "0\n",
      "Average and Sum of the above numbers are:  19.25 77.0\n"
     ]
    }
   ],
   "source": [
    "# 42. Write a Python program to calculate the sum and average of n integer numbers\n",
    "# (input from the user). Input 0 to finish.\n",
    "\n",
    "print(\"Enter some integers to calculate their sum and average. Enter 0 to exit.\")\n",
    "\n",
    "count = 0\n",
    "sum = 0.0\n",
    "number = 1\n",
    "\n",
    "while number != 0:\n",
    "    number = int(input(\"\"))\n",
    "    sum = sum + number\n",
    "    count += 1\n",
    "\n",
    "if count == 0:\n",
    "    print(\"Enter some numbers\")\n",
    "else:\n",
    "    print(\"Average and Sum of the above numbers are: \", sum / (count-1), sum)"
   ]
  },
  {
   "cell_type": "code",
   "execution_count": 42,
   "metadata": {},
   "outputs": [
    {
     "name": "stdout",
     "output_type": "stream",
     "text": [
      "Enter a number: 6\n",
      "6 x 1 = 6\n",
      "6 x 2 = 12\n",
      "6 x 3 = 18\n",
      "6 x 4 = 24\n",
      "6 x 5 = 30\n",
      "6 x 6 = 36\n",
      "6 x 7 = 42\n",
      "6 x 8 = 48\n",
      "6 x 9 = 54\n",
      "6 x 10 = 60\n"
     ]
    }
   ],
   "source": [
    "# 43. Write a Python program to create the multiplication table (from 1 to 10) of a\n",
    "# number.\n",
    "# Expected Output:\n",
    "# Input a number: 6\n",
    "# 6 x 1 = 6\n",
    "# 6 x 2 = 12\n",
    "# 6 x 3 = 18\n",
    "# 6 x 4 = 24\n",
    "# 6 x 5 = 30\n",
    "# 6 x 6 = 36\n",
    "# 6 x 7 = 42\n",
    "# 6 x 8 = 48\n",
    "# 6 x 9 = 54\n",
    "# 6 x 10 = 60\n",
    "\n",
    "n = int(input(\"Enter a number: \"))\n",
    "\n",
    "# use for loop to iterate 10 times\n",
    "for i in range(1,11):\n",
    "   print(n,'x',i,'=',n*i)\n",
    "   "
   ]
  },
  {
   "cell_type": "code",
   "execution_count": 43,
   "metadata": {},
   "outputs": [
    {
     "name": "stdout",
     "output_type": "stream",
     "text": [
      "\n",
      "1\n",
      "22\n",
      "333\n",
      "4444\n",
      "55555\n",
      "666666\n",
      "7777777\n",
      "88888888\n",
      "999999999\n"
     ]
    }
   ],
   "source": [
    "# 44. Write a Python program to construct the following pattern, using a nested loop\n",
    "# number. Expected Output:\n",
    "# 1\n",
    "# 22\n",
    "# 333\n",
    "# 4444\n",
    "# 55555\n",
    "# 666666\n",
    "# 7777777\n",
    "# 88888888\n",
    "# 999999999\n",
    "\n",
    "for i in range(10):\n",
    "    print(str(i) * i)"
   ]
  }
 ],
 "metadata": {
  "kernelspec": {
   "display_name": "Python 3",
   "language": "python",
   "name": "python3"
  },
  "language_info": {
   "codemirror_mode": {
    "name": "ipython",
    "version": 3
   },
   "file_extension": ".py",
   "mimetype": "text/x-python",
   "name": "python",
   "nbconvert_exporter": "python",
   "pygments_lexer": "ipython3",
   "version": "3.8.6"
  }
 },
 "nbformat": 4,
 "nbformat_minor": 4
}
