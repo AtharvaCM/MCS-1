{
 "cells": [
  {
   "cell_type": "code",
   "execution_count": 8,
   "metadata": {},
   "outputs": [
    {
     "name": "stdout",
     "output_type": "stream",
     "text": [
      "Enter Size Of Array:5\n",
      "Enter Array:1 5 4 3 2\n",
      "[(0, 1), (1, 5), (2, 4), (3, 3), (4, 2)]\n",
      "[(0, 1), (4, 2), (3, 3), (2, 4), (1, 5)]\n",
      "Minimum Number of swaps to sort array is: 2\n"
     ]
    }
   ],
   "source": [
    "def minSwaps(arr):\n",
    "    n = len(arr)\n",
    "#     print(arr)\n",
    "     \n",
    "    # Create two arrays and use \n",
    "    # as pairs where first array \n",
    "    # is element and second array\n",
    "    # is position of first element\n",
    "    arrpos = [*enumerate(arr)]\n",
    "    print(arrpos)\n",
    "     \n",
    "    # Sort the array by array element \n",
    "    # values to get right position of \n",
    "    # every element as the elements \n",
    "    # of second array.\n",
    "    \n",
    "    # The key argument makes that a little more specific by saying, for each element (x) in arrpos,\n",
    "    # return index 1 of that element, then sort all of the elements of the original list 'mylist' by \n",
    "    # the sorted order of the list calculated by the lambda function. \n",
    "    arrpos.sort(key = lambda it : it[1])\n",
    "    print(arrpos)\n",
    "     \n",
    "    # To keep track of visited elements. \n",
    "    # Initialize all elements as not \n",
    "    # visited or false.\n",
    "    vis = {k : False for k in range(n)}\n",
    "     \n",
    "    # Initialize result\n",
    "    ans = 0\n",
    "    for i in range(n):\n",
    "         \n",
    "        # alreadt swapped or \n",
    "        # alreadt present at \n",
    "        # correct position\n",
    "        if vis[i] or arrpos[i][0] == i:\n",
    "            continue\n",
    "             \n",
    "        # find number of nodes \n",
    "        # in this cycle and\n",
    "        # add it to ans\n",
    "        cycle_size = 0\n",
    "        j = i\n",
    "         \n",
    "        while not vis[j]:\n",
    "             \n",
    "            # mark node as visited\n",
    "            vis[j] = True\n",
    "             \n",
    "            # move to next node\n",
    "            j = arrpos[j][0]\n",
    "            cycle_size += 1\n",
    "             \n",
    "        # update answer by adding\n",
    "        # current cycle\n",
    "        if cycle_size > 0:\n",
    "            ans += (cycle_size - 1)\n",
    "             \n",
    "    # return answer\n",
    "    return ans\n",
    " \n",
    "# Driver Code     \n",
    "# arr = [1, 5, 4, 3, 2]\n",
    "# print(minSwaps(arr))\n",
    "n = int(input(\"Enter Size Of Array:\"))\n",
    "arr = list(map(int,input(\"Enter Array:\").split()))\n",
    "print(\"Minimum Number of swaps to sort array is:\", minSwaps(arr))"
   ]
  }
 ],
 "metadata": {
  "kernelspec": {
   "display_name": "Python 3",
   "language": "python",
   "name": "python3"
  },
  "language_info": {
   "codemirror_mode": {
    "name": "ipython",
    "version": 3
   },
   "file_extension": ".py",
   "mimetype": "text/x-python",
   "name": "python",
   "nbconvert_exporter": "python",
   "pygments_lexer": "ipython3",
   "version": "3.8.6"
  }
 },
 "nbformat": 4,
 "nbformat_minor": 4
}
