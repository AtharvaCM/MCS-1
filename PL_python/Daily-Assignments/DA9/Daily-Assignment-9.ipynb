{
 "cells": [
  {
   "cell_type": "markdown",
   "metadata": {},
   "source": [
    "# New Year Chaos"
   ]
  },
  {
   "cell_type": "code",
   "execution_count": 39,
   "metadata": {},
   "outputs": [
    {
     "name": "stdout",
     "output_type": "stream",
     "text": [
      "enter t: 1\n",
      "Enter space separated integers: 5 1 2 3 4\n",
      "['5', '1', '2', '3', '4']\n",
      "Too Chaotic\n"
     ]
    }
   ],
   "source": [
    "# q = [2, 1, 5, 3, 4]\n",
    "\n",
    "def minimumBribes(q):\n",
    "#     print(q)\n",
    "    swap = 0\n",
    "    bribes = 0\n",
    "    pos = 0\n",
    "    \n",
    "    for i in reversed(range(len(q))):\n",
    "        j = 0\n",
    "#         print('i = ', i)\n",
    "        \n",
    "#         print('pos = ', pos)\n",
    "#         print('q[pos] = ', q[pos])\n",
    "#         print(type(int((q[pos]))))\n",
    "        # current pos - expected pos\n",
    "        bribes = (int(q[pos]) - (pos + 1))\n",
    "        pos += 1\n",
    "#         print('Bribes = ', bribes)\n",
    "        # check terminating cond\n",
    "        if(bribes > 2):\n",
    "            print('Too Chaotic')\n",
    "            return\n",
    "        \n",
    "        if(int(q[i]) - 2 > 0):\n",
    "            j = int(q[i]) -2;\n",
    "#             print('\\tj = ', j)\n",
    "        \n",
    "        # compare to see how many times ith no had to be swapped\n",
    "        while(j <= i):\n",
    "            if(int(q[j]) > int(q[i])):\n",
    "                swap += 1\n",
    "            j += 1\n",
    "#         pos += 1\n",
    "        \n",
    "    print('swaps required = ', swap)\n",
    "\n",
    "    \n",
    "t = int(input('enter t: '))\n",
    "for ele in range(0, t):\n",
    "    lst = input('Enter space separated integers: ').split(' ')\n",
    "    print(lst)\n",
    "#     print(type(lst))\n",
    "    minimumBribes(lst)\n"
   ]
  }
 ],
 "metadata": {
  "kernelspec": {
   "display_name": "Python 3",
   "language": "python",
   "name": "python3"
  },
  "language_info": {
   "codemirror_mode": {
    "name": "ipython",
    "version": 3
   },
   "file_extension": ".py",
   "mimetype": "text/x-python",
   "name": "python",
   "nbconvert_exporter": "python",
   "pygments_lexer": "ipython3",
   "version": "3.8.6"
  }
 },
 "nbformat": 4,
 "nbformat_minor": 4
}
