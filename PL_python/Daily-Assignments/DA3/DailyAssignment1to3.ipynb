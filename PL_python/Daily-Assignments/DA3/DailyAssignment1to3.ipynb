{
 "cells": [
  {
   "cell_type": "markdown",
   "metadata": {},
   "source": [
    " Daily Assignments 1 to 3\n",
    "### $Name :- Atharva Mahamuni$     Class :- Msc computer science I\n"
   ]
  },
  {
   "cell_type": "markdown",
   "metadata": {},
   "source": [
    "## Daily Assignment 1\n",
    "\n",
    "# Sales by Match Problem\n"
   ]
  },
  {
   "cell_type": "code",
   "execution_count": 1,
   "metadata": {
    "scrolled": true
   },
   "outputs": [
    {
     "name": "stdout",
     "output_type": "stream",
     "text": [
      "How many Socks u Want?10\n",
      "Enter Colors Of Socks In the pile :1 1 3 1 2 1 3 3 3 3\n",
      "Total Number Of Matching Pairs is : 4\n"
     ]
    }
   ],
   "source": [
    "n=int(input(\"How many Socks u Want?\"))\n",
    "a=list(map(int,input(\"Enter Colors Of Socks In the pile :\").split()))\n",
    "b=set(a)\n",
    "c=0\n",
    "for i in b:\n",
    "    if a.count(i)//2>=1:\n",
    "        c+=(a.count(i)//2)\n",
    "print(\"Total Number Of Matching Pairs is :\",c)"
   ]
  },
  {
   "cell_type": "raw",
   "metadata": {},
   "source": [
    "How many Socks u Want?9\n",
    "Enter Colors Of Socks In the pile :10 20 20 10 10 30 50 10 20\n",
    "Total Number Of Matching Pairs is : 3"
   ]
  },
  {
   "cell_type": "markdown",
   "metadata": {},
   "source": [
    "## Daily Assignment2\n",
    "\n",
    "# Counting Valleys Problem\n"
   ]
  },
  {
   "cell_type": "code",
   "execution_count": 1,
   "metadata": {},
   "outputs": [
    {
     "name": "stdout",
     "output_type": "stream",
     "text": [
      "Enter Total Number Of Steps In the Hike?:12\n",
      "Enter Path Of hike:DDUUDDUDUUUD\n",
      "The Number Of The Valleys that are traversed is: 2\n"
     ]
    }
   ],
   "source": [
    "def count_valleys(n, steps):\n",
    "    num_valleys = 0       \n",
    "    level = 0           \n",
    "    for d in steps:\n",
    "        if d == 'U':    \n",
    "            level += 1\n",
    "        else:           \n",
    "            if level == 0:\n",
    "                num_valleys += 1\n",
    "            level -= 1\n",
    "    return num_valleys\n",
    " \n",
    "n = int(input(\"Enter Total Number Of Steps In the Hike?:\").strip())\n",
    "steps = input(\"Enter Path Of hike:\").strip()\n",
    "result = count_valleys(n, steps)\n",
    "print(\"The Number Of The Valleys that are traversed is:\",result)"
   ]
  },
  {
   "cell_type": "raw",
   "metadata": {},
   "source": [
    "Enter Total Number Of Steps In the Hike?:8\n",
    "Enter Path Of hike:UDDDUDUU\n",
    "The Number Of The Valleys that are traversed is: 1"
   ]
  },
  {
   "cell_type": "markdown",
   "metadata": {},
   "source": [
    "## Daily Assignment3\n",
    "\n",
    "\n",
    "# Compare the Triplets"
   ]
  },
  {
   "cell_type": "code",
   "execution_count": 3,
   "metadata": {},
   "outputs": [
    {
     "name": "stdout",
     "output_type": "stream",
     "text": [
      "Enter ratings of Alice challenge: 17\n",
      "Enter ratings of Alice challenge: 28\n",
      "Enter ratings of Alice challenge: 30\n",
      "Enter ratings of Bob challenge: 99\n",
      "Enter ratings of Bob challenge: 16\n",
      "Enter ratings of Bob challenge: 8\n",
      "Alice score and Bob Score in challenges respectively: [2, 1]\n"
     ]
    }
   ],
   "source": [
    "a = []\n",
    "b = []\n",
    "# Complete the compareTriplets function below.\n",
    "for i in range(3):\n",
    "    a_input = int(input('Enter ratings of Alice challenge: '))\n",
    "    a.append(a_input)\n",
    "for i in range(3):\n",
    "    b_input = int(input('Enter ratings of Bob challenge: '))\n",
    "    b.append(b_input)\n",
    "def compareTriplets(a, b):\n",
    "    score =[0,0]\n",
    "    for i in range(3):\n",
    "        if a[i] > b[i]:\n",
    "            score[0] =score[0] + 1\n",
    "        if a[i] < b[i]:\n",
    "            score[1] =score[1] + 1\n",
    "    return score\n",
    "print(\"Alice score and Bob Score in challenges respectively:\",compareTriplets(a,b))"
   ]
  },
  {
   "cell_type": "raw",
   "metadata": {},
   "source": [
    "Enter ratings of Alice challenge: 5\n",
    "Enter ratings of Alice challenge: 6\n",
    "Enter ratings of Alice challenge: 7\n",
    "Enter ratings of Bob challenge: 3\n",
    "Enter ratings of Bob challenge: 6\n",
    "Enter ratings of Bob challenge: 10\n",
    "Alice score and Bob Score in challenges respectively: [1, 1]"
   ]
  }
 ],
 "metadata": {
  "kernelspec": {
   "display_name": "Python 3",
   "language": "python",
   "name": "python3"
  },
  "language_info": {
   "codemirror_mode": {
    "name": "ipython",
    "version": 3
   },
   "file_extension": ".py",
   "mimetype": "text/x-python",
   "name": "python",
   "nbconvert_exporter": "python",
   "pygments_lexer": "ipython3",
   "version": "3.8.6"
  }
 },
 "nbformat": 4,
 "nbformat_minor": 4
}
