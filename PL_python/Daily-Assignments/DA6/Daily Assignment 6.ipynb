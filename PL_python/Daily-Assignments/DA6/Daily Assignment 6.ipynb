{
 "cells": [
  {
   "cell_type": "code",
   "execution_count": 7,
   "metadata": {},
   "outputs": [],
   "source": [
    "def diff(matrix, N):\n",
    "    \n",
    "    sum1 = 0\n",
    "    sum2 = 0\n",
    "    \n",
    "    for r in range(0,N):\n",
    "        for c in range(0,N):\n",
    "            \n",
    "            #sum of primary diagonal\n",
    "            if r == c:\n",
    "                sum1 += matrix[r][c]\n",
    "            \n",
    "            #sum of sec diagonal\n",
    "            if r == N - c - 1 :\n",
    "                sum2 += matrix[r][c]\n",
    "                \n",
    "    #absolute difference \n",
    "    print(\"Absolute difference : \", abs(sum1 - sum2))                "
   ]
  },
  {
   "cell_type": "code",
   "execution_count": 8,
   "metadata": {},
   "outputs": [
    {
     "name": "stdout",
     "output_type": "stream",
     "text": [
      "Absolute difference :  15\n"
     ]
    }
   ],
   "source": [
    "N = 3\n",
    "\n",
    "matrix = [[11, 2, 4],\n",
    "                 [4, 5, 6],\n",
    "                 [10, 8, -12]]\n",
    "\n",
    "diff(matrix,N)"
   ]
  },
  {
   "cell_type": "code",
   "execution_count": null,
   "metadata": {},
   "outputs": [],
   "source": []
  }
 ],
 "metadata": {
  "kernelspec": {
   "display_name": "Python 3",
   "language": "python",
   "name": "python3"
  },
  "language_info": {
   "codemirror_mode": {
    "name": "ipython",
    "version": 3
   },
   "file_extension": ".py",
   "mimetype": "text/x-python",
   "name": "python",
   "nbconvert_exporter": "python",
   "pygments_lexer": "ipython3",
   "version": "3.8.6"
  }
 },
 "nbformat": 4,
 "nbformat_minor": 4
}
