{
 "cells": [
  {
   "cell_type": "code",
   "execution_count": 35,
   "metadata": {},
   "outputs": [
    {
     "name": "stdout",
     "output_type": "stream",
     "text": [
      "Enter n: 4\n",
      "Enter nos in space separated manner: 4 4 1 3\n",
      "1\n",
      "3\n",
      "4\n",
      "4\n"
     ]
    },
    {
     "data": {
      "text/plain": [
       "2"
      ]
     },
     "execution_count": 35,
     "metadata": {},
     "output_type": "execute_result"
    }
   ],
   "source": [
    "n = int(input('Enter n: '))\n",
    "candles = input('Enter nos in space separated manner: ')\n",
    "lst = candles.split(' ')\n",
    "\n",
    "# print(lst[len(lst)-1])\n",
    "if len(lst) != n:\n",
    "    while(len(lst) != n):\n",
    "        candles = input('Enter nos again correctly: ')\n",
    "        lst = candles.split(' ')\n",
    "\n",
    "lst.sort()\n",
    "        \n",
    "def birthdayCakeCandles(lst):\n",
    "    count = 0\n",
    "    for i in range(0, len(lst)):\n",
    "        print(lst[i])\n",
    "        if lst[i] == lst[len(lst)-1]:\n",
    "            count += 1\n",
    "    return count\n",
    "\n",
    "birthdayCakeCandles(lst)"
   ]
  }
 ],
 "metadata": {
  "kernelspec": {
   "display_name": "Python 3",
   "language": "python",
   "name": "python3"
  },
  "language_info": {
   "codemirror_mode": {
    "name": "ipython",
    "version": 3
   },
   "file_extension": ".py",
   "mimetype": "text/x-python",
   "name": "python",
   "nbconvert_exporter": "python",
   "pygments_lexer": "ipython3",
   "version": "3.8.6"
  }
 },
 "nbformat": 4,
 "nbformat_minor": 4
}
