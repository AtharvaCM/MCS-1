{
 "cells": [
  {
   "cell_type": "markdown",
   "metadata": {},
   "source": [
    "### Name :- Atharva Mahamuni \n",
    "### Class :- MSc computer science I\n",
    "### Enroll No :- 2002276\n",
    "\n",
    "# Assignment 8 (Dictionaries, Arrays, Functions, and Modules)\n",
    "# --------------------------------------------------------------------------------------"
   ]
  },
  {
   "cell_type": "markdown",
   "metadata": {},
   "source": [
    "## Exercises A simple simulation engine:"
   ]
  },
  {
   "cell_type": "markdown",
   "metadata": {},
   "source": [
    "### 1. Write a Python function IterateLogistic() that takes three parameters: Two real numbers and an integer.\n",
    "\n",
    "### 2. Interpret the first two—x and r—as the current state and the control parameter value for the Logistic Map: f(x) = r x (1 - x).\n",
    "\n",
    "### 3. The function should return the state after the given number of iterations, which is the third parameter, call it n.\n",
    "\n",
    "### 4. This is all the function should do—the numerical iterations: xn = fn (x0).\n",
    "\n",
    "### 5. Test your function interactively in iPython."
   ]
  },
  {
   "cell_type": "code",
   "execution_count": 2,
   "metadata": {},
   "outputs": [],
   "source": [
    "def IterateLogistic(x,r,n):\n",
    "    for it in range(n):\n",
    "        x = r*x*(1-x)\n",
    "    return x"
   ]
  },
  {
   "cell_type": "markdown",
   "metadata": {},
   "source": [
    "### 6. Generating experimental data:\n",
    "\n",
    "### 7. Write a Python program LogisticData.py that generates 10 data files, each with 50 Logistic Map iterates, at map parameter r = 4.0.\n",
    "\n",
    "### 8. Each line in the files should list the iteration number n and then the iteration value xn.\n",
    "\n",
    "### 9. Start each program run with a different initial condition x0. The initial conditions should be close: Use x0 = 0.3 + deltai, where deltai = i * 0.00005, i = 0, 1, 2, 3, ..., 9.\n",
    "\n",
    "### 10. Name the 10 files \"data1\" to \"data10\".\n",
    "\n",
    "### 11. Hint: Use the program you wrote for the Part B exercises to generate the data files, adding the iteration function you wrote above."
   ]
  },
  {
   "cell_type": "code",
   "execution_count": 4,
   "metadata": {},
   "outputs": [],
   "source": [
    "for i in range(10):\n",
    "    fname = \"data\"+str(i)+'.txt'\n",
    "    x0 = 0.3+(i*0.00005)\n",
    "    r = 4.0\n",
    "    f = open(fname,\"w\")\n",
    "    for j in range(50):\n",
    "        f.write(str(j)+\" \"+str(IterateLogistic(x0,r,j))+\"\\n\")\n",
    "    f.close()"
   ]
  },
  {
   "cell_type": "markdown",
   "metadata": {},
   "source": [
    "### 12. Storing and retrieving formatted data:\n",
    "\n",
    "### 13. Write a Python module MatrixIO.py containing two functions.\n",
    "\n",
    "### 14. One function should read a file containing a text representation of a matrix; that is, a certain number of lines each containing the same number of numbers separated by spaces.\n",
    "\n",
    "### 15. The function should return an array containing this data. Note that the function should work for matrices of any size.\n",
    "\n",
    "### 16. The second function should do the inverse: write a matrix of any size to a text file.\n",
    "\n",
    "### 17. Use these in a Python program MatrixReadWrite.py that reads in file data7 from the previous exercise and then writes it out to a file data7.out.\n",
    "\n",
    "### 18. Hint: Use the matrix module written above by importing it."
   ]
  },
  {
   "cell_type": "code",
   "execution_count": 5,
   "metadata": {},
   "outputs": [],
   "source": [
    "# Code Written in MatrixIO.py\n",
    "from MatrixIO import *\n",
    "\n",
    "#readFunction\n",
    "data = readMatrix(\"data7.txt\")\n",
    "\n",
    "#WriteInverseMatrix\n",
    "writeInverse(\"data7.out\",data)"
   ]
  },
  {
   "cell_type": "markdown",
   "metadata": {},
   "source": [
    "### 19. Processing experimental data:\n",
    "\n",
    "### 20. Recall that each line in the data files you just generated has an iteration number and then a state value.\n",
    "\n",
    "### 21. Assume that all files have the same length.\n",
    "\n",
    "### 22. Write a Python program MaxSeparation.py that produces another file consisting of lines with iteration number and d_max, where d_max is the largest distance between all pairs of states taken from the different files at the same iteration number.\n",
    "\n",
    "### 23. Store this series of numbers in a file.\n",
    "\n",
    "### 24. What do you see? What is your interpretation of the d_max values as a function of iteration?"
   ]
  },
  {
   "cell_type": "code",
   "execution_count": 6,
   "metadata": {},
   "outputs": [],
   "source": [
    "def maxDistance():\n",
    "    mina = [float('INF') for i in range(50)]\n",
    "    maxa = [float('-INF') for i in range(50)]\n",
    "    d_max = [float('-INF') for i in range(50)]\n",
    "    for i in range(10):\n",
    "        f1 = open(str(\"data\"+str(i)+\".txt\"),\"r\")\n",
    "        for i in f1:\n",
    "            i = i.split(\" \")\n",
    "            i[0] = int(i[0])\n",
    "            i[1] = float(i[1][0:-1])\n",
    "\n",
    "            if(mina[i[0]] > i[1]):\n",
    "                mina[i[0]] = i[1]\n",
    "   \n",
    "            if(maxa[i[0]] < i[1]):\n",
    "                maxa[i[0]] = i[1]\n",
    "            dis = maxa[i[0]]-mina[i[0]]\n",
    "        \n",
    "            if(dis > d_max[i[0]]):\n",
    "                d_max[i[0]] = dis \n",
    "    \n",
    "    j=0\n",
    "    fn = open(\"MaxDist.txt\",\"w\")\n",
    "    for i in d_max:\n",
    "        fn.write(str(j) + \" \" + str(i) + \"\\n\")\n",
    "        j+=1\n",
    "    fn.close()\n",
    "maxDistance()"
   ]
  },
  {
   "cell_type": "code",
   "execution_count": null,
   "metadata": {},
   "outputs": [],
   "source": []
  }
 ],
 "metadata": {
  "kernelspec": {
   "display_name": "Python 3",
   "language": "python",
   "name": "python3"
  },
  "language_info": {
   "codemirror_mode": {
    "name": "ipython",
    "version": 3
   },
   "file_extension": ".py",
   "mimetype": "text/x-python",
   "name": "python",
   "nbconvert_exporter": "python",
   "pygments_lexer": "ipython3",
   "version": "3.8.3"
  }
 },
 "nbformat": 4,
 "nbformat_minor": 4
}
