{
 "cells": [
  {
   "cell_type": "code",
   "execution_count": 2,
   "metadata": {},
   "outputs": [
    {
     "name": "stdout",
     "output_type": "stream",
     "text": [
      "Enter st1: cde\n",
      "Enter st2: abc\n",
      "4\n"
     ]
    }
   ],
   "source": [
    "CHARS = 26\n",
    "  \n",
    "# function to calculate minimum  \n",
    "# numbers of characters \n",
    "# to be removed to make two  \n",
    "# strings anagram \n",
    "def remAnagram(str1, str2): \n",
    "  \n",
    "    # make hash array for both string  \n",
    "    # and calculate \n",
    "    # frequency of each character \n",
    "    count1 = [0]*CHARS \n",
    "    count2 = [0]*CHARS \n",
    "  \n",
    "    # count frequency of each character  \n",
    "    # in first string \n",
    "    i = 0\n",
    "    while i < len(str1): \n",
    "        count1[ord(str1[i])-ord('a')] += 1\n",
    "        i += 1\n",
    "  \n",
    "    # count frequency of each character  \n",
    "    # in second string \n",
    "    i =0\n",
    "    while i < len(str2): \n",
    "        count2[ord(str2[i])-ord('a')] += 1\n",
    "        i += 1\n",
    "  \n",
    "    # traverse count arrays to find  \n",
    "    # number of characters \n",
    "    # to be removed \n",
    "    result = 0\n",
    "    for i in range(26): \n",
    "        result += abs(count1[i] - count2[i]) \n",
    "    return result \n",
    "  \n",
    "    \n",
    "if __name__ == \"__main__\": \n",
    "    str1 = input(\"Enter st1: \")\n",
    "    str2 = input(\"Enter st2: \")\n",
    "    print(remAnagram(str1, str2)) "
   ]
  }
 ],
 "metadata": {
  "kernelspec": {
   "display_name": "Python 3",
   "language": "python",
   "name": "python3"
  },
  "language_info": {
   "codemirror_mode": {
    "name": "ipython",
    "version": 3
   },
   "file_extension": ".py",
   "mimetype": "text/x-python",
   "name": "python",
   "nbconvert_exporter": "python",
   "pygments_lexer": "ipython3",
   "version": "3.8.7"
  }
 },
 "nbformat": 4,
 "nbformat_minor": 4
}
