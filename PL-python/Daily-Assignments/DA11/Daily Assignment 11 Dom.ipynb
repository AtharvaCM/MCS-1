{
 "cells": [
  {
   "cell_type": "markdown",
   "metadata": {},
   "source": [
    "### Name: Atharva Mahamuni \n",
    "### Class: MSc. Computer Science 1\n",
    "### Enrollment Number: 2002276\n",
    "### Daily Assignment 11"
   ]
  },
  {
   "cell_type": "code",
   "execution_count": 1,
   "metadata": {},
   "outputs": [
    {
     "name": "stdout",
     "output_type": "stream",
     "text": [
      "Enter the string : ababab\n",
      "YES\n"
     ]
    }
   ],
   "source": [
    "from collections import Counter\n",
    "\n",
    "def isValid(s):\n",
    "    cnt = Counter(s) \n",
    "    if len(set(cnt.values())) == 1:\n",
    "        return \"YES\"\n",
    "    \n",
    "    elif len(set(cnt.values())) > 2:\n",
    "        return \"NO\"\n",
    "    \n",
    "    else:\n",
    "        for key in cnt:\n",
    "            cnt[key] -= 1\n",
    "            temp = list(cnt.values())\n",
    "            \n",
    "            try:\n",
    "                temp.remove(0)\n",
    "            except:\n",
    "                pass\n",
    "            if len(set(temp)) == 1:\n",
    "                return \"YES\"\n",
    "            else:\n",
    "                cnt[key] += 1\n",
    "        return \"NO\"        \n",
    "\n",
    "\n",
    "s = input(\"Enter the string : \")\n",
    "\n",
    "result = isValid(s)\n",
    "\n",
    "print(result)\n"
   ]
  },
  {
   "cell_type": "code",
   "execution_count": null,
   "metadata": {},
   "outputs": [],
   "source": []
  }
 ],
 "metadata": {
  "kernelspec": {
   "display_name": "Python 3",
   "language": "python",
   "name": "python3"
  },
  "language_info": {
   "codemirror_mode": {
    "name": "ipython",
    "version": 3
   },
   "file_extension": ".py",
   "mimetype": "text/x-python",
   "name": "python",
   "nbconvert_exporter": "python",
   "pygments_lexer": "ipython3",
   "version": "3.8.3"
  }
 },
 "nbformat": 4,
 "nbformat_minor": 4
}
