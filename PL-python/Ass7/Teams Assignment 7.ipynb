{
 "cells": [
  {
   "cell_type": "markdown",
   "metadata": {},
   "source": [
    "### Name :- Atharva Mahamuni \n",
    "### Class :- MSc computer science I\n",
    "### Enroll No :- 2002276\n",
    "\n",
    "# Assignment 7 ( Strings, Lists, Tuples, Loops, Conditionals, File handling )\n",
    "# --------------------------------------------------------------------------------------"
   ]
  },
  {
   "cell_type": "markdown",
   "metadata": {},
   "source": [
    "### 1.\tWrite a program GetGA.py that uses the GettheAddresses.txt to grab a text file containing the Gettysburg Address. Have the program write this to a file named ga.txt."
   ]
  },
  {
   "cell_type": "code",
   "execution_count": 5,
   "metadata": {},
   "outputs": [],
   "source": [
    "f=open(\"GettheAdresses.txt\",\"r\")\n",
    "f1=open(\"ga.txt\",\"w\")\n",
    "for line in f:\n",
    "    f1.write(line)"
   ]
  },
  {
   "cell_type": "markdown",
   "metadata": {},
   "source": [
    "### 2.\tWrite a program WordLineCounts.py that counts the number of lines and words in ga.txt, printing the resulting counts to the terminal. Annotate the output so that it is understandable:\n",
    "### Count statistics in file ga.txt\n",
    "### The number of words is ###.\n",
    "### The number of lines is ###.\n"
   ]
  },
  {
   "cell_type": "code",
   "execution_count": 6,
   "metadata": {},
   "outputs": [
    {
     "name": "stdout",
     "output_type": "stream",
     "text": [
      "No. of Lines = 27\n",
      "No. of Words = 278\n"
     ]
    }
   ],
   "source": [
    "f=open(\"ga.txt\",\"r\")\n",
    "lines=0\n",
    "words=0\n",
    "\n",
    "x=f.read()\n",
    "words=x.split()\n",
    "\n",
    "f.seek(0)\n",
    "while f.readline():\n",
    "    lines+=1\n",
    "\n",
    "print(f\"No. of Lines = {lines}\\nNo. of Words = {len(words)}\")"
   ]
  },
  {
   "cell_type": "markdown",
   "metadata": {},
   "source": [
    "### 3.\tWrite a program VowelCounts.py that reads in ga.txt and counts the number of each kind of vowel, printing the results for each vowel to the terminal. Annotate the output so that it is understandable."
   ]
  },
  {
   "cell_type": "code",
   "execution_count": 7,
   "metadata": {},
   "outputs": [
    {
     "name": "stdout",
     "output_type": "stream",
     "text": [
      "a=102\n",
      "e=165\n",
      "i=68\n",
      "o=93\n",
      "u=21\n"
     ]
    }
   ],
   "source": [
    "f=open(\"ga.txt\", \"r\")\n",
    "a=0\n",
    "e=0\n",
    "i=0\n",
    "o=0\n",
    "u=0\n",
    "\n",
    "for j in f.read():\n",
    "    if j==\"A\" or j==\"a\":\n",
    "        a+=1\n",
    "    elif j==\"E\" or j==\"e\":\n",
    "        e+=1\n",
    "    elif j==\"I\" or j==\"i\":\n",
    "        i+=1\n",
    "    elif j==\"O\" or j==\"o\":\n",
    "        o+=1\n",
    "    elif j==\"U\" or j==\"u\":\n",
    "        u+=1\n",
    "print(f\"a={a}\\ne={e}\\ni={i}\\no={o}\\nu={u}\")"
   ]
  },
  {
   "cell_type": "markdown",
   "metadata": {},
   "source": [
    "### 4.\tWrite a program SortFile.py that reads in and alphabetically sorts the lines (not individual words) in ga.txt and outputs those lines to a new file ga_sorted.txt."
   ]
  },
  {
   "cell_type": "code",
   "execution_count": 9,
   "metadata": {},
   "outputs": [],
   "source": [
    "f=open(\"ga.txt\",\"r\")\n",
    "lines=f.readlines()\n",
    "\n",
    "for i in range(len(lines)-1):\n",
    "    lines[i]=lines[i].lower()\n",
    "    \n",
    "l=sorted(lines)\n",
    "f1=open(\"ga_sorted.txt\",\"w\")\n",
    "for i in l:\n",
    "    f1.write(i)\n"
   ]
  },
  {
   "cell_type": "markdown",
   "metadata": {},
   "source": [
    "### 5.\tIterate a chaotic one-dimensional map: Write a program OneDMapIterate.py that iterates the function f(x) = 4.0 x ( 1 - x ). First, set the initial condition x = 0.3. Then apply f(x) repeatedly to each new x. Iterate for 100 steps, printing on each line the iteration number and the successive x values to file onedmap.txt."
   ]
  },
  {
   "cell_type": "code",
   "execution_count": 11,
   "metadata": {},
   "outputs": [],
   "source": [
    "def f(x):\n",
    "    x=(4.0*x)*(1-x)\n",
    "    return(x)\n",
    "    \n",
    "x=0.3\n",
    "file=open(\"onedmap.txt\" ,\"w\")\n",
    "for i in range(100):\n",
    "    x=f(x)\n",
    "    file.write(f\"{i+1} \\t  {x}\\n\")\n",
    "    "
   ]
  },
  {
   "cell_type": "markdown",
   "metadata": {},
   "source": [
    "### 6.\tAnalyze a chaotic one-dimensional map: Write a program OneDMapAnalyze.py that reads the data in onedmap.txt. Calculate the mean value of the iterates, printing the result to the terminal; again annotate the output so that it is understandable. Determine the fraction of iterates that have x > 0.5. Also, print out that result."
   ]
  },
  {
   "cell_type": "code",
   "execution_count": 12,
   "metadata": {},
   "outputs": [
    {
     "name": "stdout",
     "output_type": "stream",
     "text": [
      "Fraction of iterates having x>0.5 are :\n",
      "0.84\n",
      "0.5376000000000001\n",
      "0.9943449599999999\n",
      "0.8716123810885569\n",
      "0.9890240655005337\n",
      "0.5541649166167251\n",
      "0.9882646472316129\n",
      "0.5825646636613406\n",
      "0.9727323052579588\n",
      "0.9417846056085262\n",
      "0.6848422761315521\n",
      "0.8633333318180282\n",
      "0.996854037531381\n",
      "0.6115484318328018\n",
      "0.950227789422571\n",
      "0.6135630900693232\n",
      "0.9484136982956272\n",
      "0.6296075510873894\n",
      "0.932807530804519\n",
      "0.7514191106200292\n",
      "0.7471537232601341\n",
      "0.7556601483146123\n",
      "0.7385515542550019\n",
      "0.7723726238500916\n",
      "0.7032526151080659\n",
      "0.8347534978069296\n",
      "0.5517603828241038\n",
      "0.9892834510796089\n",
      "0.5441965642194128\n",
      "0.9921866548447973\n",
      "0.9762709904296136\n",
      "0.8928207618601393\n",
      "0.9450260664311654\n",
      "0.6584934723527907\n",
      "0.8995192768862207\n",
      "0.9233124220685274\n",
      "0.8120367790518143\n",
      "0.610532194075877\n",
      "0.9511305362910907\n",
      "0.6054274692140977\n",
      "0.9555401949404418\n",
      "0.564221842968184\n",
      "0.9835022195430797\n",
      "0.7353110815008113\n",
      "0.7785147796916743\n",
      "0.6897180699731926\n",
      "0.8560282157025871\n",
      "0.9998026333817619\n",
      "0.6127710197868232\n",
      "0.9491307883849597\n",
      "0.6233137354554033\n",
      "0.9391748905921393\n",
      "0.7051546096216992\n",
      "0.8316463446038729\n",
      "0.5600428084435568\n",
      "0.9855794446168413\n",
      "0.6738990882338062\n",
      "\n",
      "\n",
      "Mean = 0.5352423089652145\n"
     ]
    }
   ],
   "source": [
    "f=open(\"onedmap.txt\",\"r\")\n",
    "add=0\n",
    "\n",
    "lines=f.readlines()\n",
    "print(\"Fraction of iterates having x>0.5 are :\")\n",
    "for i in lines:\n",
    "    x=i.split()\n",
    "    add+=float(x[-1])\n",
    "    if float(x[-1])>0.5:\n",
    "        print(x[-1])\n",
    "\n",
    "print(f\"\\n\\nMean = {add/len(lines)}\")"
   ]
  },
  {
   "cell_type": "code",
   "execution_count": null,
   "metadata": {},
   "outputs": [],
   "source": []
  }
 ],
 "metadata": {
  "kernelspec": {
   "display_name": "Python 3",
   "language": "python",
   "name": "python3"
  },
  "language_info": {
   "codemirror_mode": {
    "name": "ipython",
    "version": 3
   },
   "file_extension": ".py",
   "mimetype": "text/x-python",
   "name": "python",
   "nbconvert_exporter": "python",
   "pygments_lexer": "ipython3",
   "version": "3.8.3"
  }
 },
 "nbformat": 4,
 "nbformat_minor": 4
}
