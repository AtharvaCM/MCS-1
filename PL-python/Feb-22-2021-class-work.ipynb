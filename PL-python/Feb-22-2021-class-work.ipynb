{
 "cells": [
  {
   "cell_type": "markdown",
   "id": "above-vacuum",
   "metadata": {},
   "source": [
    "Problem Statement :\n",
    "Let's learn about list comprehensions! You are given three integers X,Y and Z representing the dimensions of a cuboid along with an integer N. You have to print a list of all possible coordinates given by (i,j,k) on a 3D grid where the sum of i+j+k is not equal to N. Here, 0<=i<=X; 0<=j<=Y; 0<=k<=Z\n",
    "\n",
    "\n",
    "Input Format :\n",
    "Four integers X,Y,Z and N each on four separate lines, respectively.\n",
    "\n",
    "Constraints :\n",
    "Print the list in lexicographic increasing order."
   ]
  },
  {
   "cell_type": "code",
   "execution_count": 8,
   "id": "alleged-norman",
   "metadata": {},
   "outputs": [
    {
     "name": "stdout",
     "output_type": "stream",
     "text": [
      "Enter X: 1\n",
      "Enter Y: 1\n",
      "Enter Z: 1\n",
      "Enter N: 2\n",
      "[[0, 0, 0], [0, 0, 1], [0, 1, 0], [1, 0, 0], [1, 1, 1]]\n"
     ]
    }
   ],
   "source": [
    "# traditional way\n",
    "\n",
    "if __name__ == '__main__':\n",
    "    x = int(input('Enter X: '))\n",
    "    y = int(input('Enter Y: '))\n",
    "    z = int(input('Enter Z: '))\n",
    "    n = int(input('Enter N: '))\n",
    "    \n",
    "    output = []\n",
    "    for i in range(x + 1):\n",
    "        for j in range(y + 1):\n",
    "            for k in range(z + 1):\n",
    "                if i+j+k != n:\n",
    "                    output.append([i, j, k])\n",
    "                \n",
    "    print(output)"
   ]
  },
  {
   "cell_type": "code",
   "execution_count": 11,
   "id": "irish-medium",
   "metadata": {},
   "outputs": [
    {
     "name": "stdout",
     "output_type": "stream",
     "text": [
      "Enter X: 1\n",
      "Enter Y: 1\n",
      "Enter Z: 1\n",
      "Enter N: 2\n",
      "[[0, 0, 0], [0, 0, 1], [0, 1, 0], [1, 0, 0], [1, 1, 1]]\n"
     ]
    }
   ],
   "source": [
    "# comprehension\n",
    "\n",
    "if __name__ == '__main__':\n",
    "    x = int(input('Enter X: '))\n",
    "    y = int(input('Enter Y: '))\n",
    "    z = int(input('Enter Z: '))\n",
    "    n = int(input('Enter N: '))\n",
    "    \n",
    "    output = [[i, j, k] for i in range(x + 1) for j in range(y + 1) for k in range(z + 1) if i + j + k != n]\n",
    "    \n",
    "    print(output)"
   ]
  },
  {
   "cell_type": "code",
   "execution_count": null,
   "id": "independent-peeing",
   "metadata": {},
   "outputs": [],
   "source": []
  }
 ],
 "metadata": {
  "kernelspec": {
   "display_name": "Python 3",
   "language": "python",
   "name": "python3"
  },
  "language_info": {
   "codemirror_mode": {
    "name": "ipython",
    "version": 3
   },
   "file_extension": ".py",
   "mimetype": "text/x-python",
   "name": "python",
   "nbconvert_exporter": "python",
   "pygments_lexer": "ipython3",
   "version": "3.8.7"
  }
 },
 "nbformat": 4,
 "nbformat_minor": 5
}
